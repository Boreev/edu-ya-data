{
 "cells": [
  {
   "attachments": {},
   "cell_type": "markdown",
   "id": "7c28646a",
   "metadata": {},
   "source": [
    "# Исследование надежности заемщиков."
   ]
  },
  {
   "attachments": {},
   "cell_type": "markdown",
   "id": "f76704e9",
   "metadata": {},
   "source": [
    "Заказчик — кредитный отдел банка. Нужно разобраться, влияет ли семейное положение и количество детей клиента на факт погашения кредита в срок. \n",
    "\n",
    "Входные данные от банка — статистика о платёжеспособности клиентов.\n",
    "\n",
    "Цель исследования - ответить на вопросы:\n",
    "* Есть ли зависимость между количеством детей и возвратом кредита в срок?\n",
    "* Есть ли зависимость между семейным положением и возвратом кредита в срок?\n",
    "* Есть ли зависимость между уровнем дохода и возвратом кредита в срок?\n",
    "* Как разные цели кредита влияют на его возврат в срок?\n",
    "\n",
    "Результаты исследования будут учтены при построении модели кредитного скоринга — специальной системы, которая оценивает способность потенциального заёмщика вернуть кредит банку."
   ]
  },
  {
   "attachments": {},
   "cell_type": "markdown",
   "id": "62b78ca6",
   "metadata": {},
   "source": [
    "### Шаг 1. Обзор данных"
   ]
  },
  {
   "cell_type": "code",
   "execution_count": 320,
   "id": "9c60221f",
   "metadata": {},
   "outputs": [],
   "source": [
    "#  импортируем необходимые библиотеки\n",
    "import pandas as pd\n",
    "import seaborn as sns\n",
    "import numpy as np\n",
    "import matplotlib.pyplot as plt\n"
   ]
  },
  {
   "attachments": {},
   "cell_type": "markdown",
   "id": "a92c75c9",
   "metadata": {},
   "source": [
    "### Шаг 2 Выгрузка данных"
   ]
  },
  {
   "cell_type": "code",
   "execution_count": 321,
   "id": "12b9d456",
   "metadata": {},
   "outputs": [
    {
     "name": "stdout",
     "output_type": "stream",
     "text": [
      "<class 'pandas.core.frame.DataFrame'>\n",
      "RangeIndex: 21525 entries, 0 to 21524\n",
      "Data columns (total 12 columns):\n",
      " #   Column            Non-Null Count  Dtype  \n",
      "---  ------            --------------  -----  \n",
      " 0   children          21525 non-null  int64  \n",
      " 1   days_employed     19351 non-null  float64\n",
      " 2   dob_years         21525 non-null  int64  \n",
      " 3   education         21525 non-null  object \n",
      " 4   education_id      21525 non-null  int64  \n",
      " 5   family_status     21525 non-null  object \n",
      " 6   family_status_id  21525 non-null  int64  \n",
      " 7   gender            21525 non-null  object \n",
      " 8   income_type       21525 non-null  object \n",
      " 9   debt              21525 non-null  int64  \n",
      " 10  total_income      19351 non-null  float64\n",
      " 11  purpose           21525 non-null  object \n",
      "dtypes: float64(2), int64(5), object(5)\n",
      "memory usage: 2.0+ MB\n"
     ]
    },
    {
     "data": {
      "text/plain": [
       "None"
      ]
     },
     "metadata": {},
     "output_type": "display_data"
    },
    {
     "data": {
      "text/html": [
       "<div>\n",
       "<style scoped>\n",
       "    .dataframe tbody tr th:only-of-type {\n",
       "        vertical-align: middle;\n",
       "    }\n",
       "\n",
       "    .dataframe tbody tr th {\n",
       "        vertical-align: top;\n",
       "    }\n",
       "\n",
       "    .dataframe thead th {\n",
       "        text-align: right;\n",
       "    }\n",
       "</style>\n",
       "<table border=\"1\" class=\"dataframe\">\n",
       "  <thead>\n",
       "    <tr style=\"text-align: right;\">\n",
       "      <th></th>\n",
       "      <th>children</th>\n",
       "      <th>days_employed</th>\n",
       "      <th>dob_years</th>\n",
       "      <th>education</th>\n",
       "      <th>education_id</th>\n",
       "      <th>family_status</th>\n",
       "      <th>family_status_id</th>\n",
       "      <th>gender</th>\n",
       "      <th>income_type</th>\n",
       "      <th>debt</th>\n",
       "      <th>total_income</th>\n",
       "      <th>purpose</th>\n",
       "    </tr>\n",
       "  </thead>\n",
       "  <tbody>\n",
       "    <tr>\n",
       "      <th>0</th>\n",
       "      <td>1</td>\n",
       "      <td>-8437.673028</td>\n",
       "      <td>42</td>\n",
       "      <td>высшее</td>\n",
       "      <td>0</td>\n",
       "      <td>женат / замужем</td>\n",
       "      <td>0</td>\n",
       "      <td>F</td>\n",
       "      <td>сотрудник</td>\n",
       "      <td>0</td>\n",
       "      <td>253875.639453</td>\n",
       "      <td>покупка жилья</td>\n",
       "    </tr>\n",
       "    <tr>\n",
       "      <th>1</th>\n",
       "      <td>1</td>\n",
       "      <td>-4024.803754</td>\n",
       "      <td>36</td>\n",
       "      <td>среднее</td>\n",
       "      <td>1</td>\n",
       "      <td>женат / замужем</td>\n",
       "      <td>0</td>\n",
       "      <td>F</td>\n",
       "      <td>сотрудник</td>\n",
       "      <td>0</td>\n",
       "      <td>112080.014102</td>\n",
       "      <td>приобретение автомобиля</td>\n",
       "    </tr>\n",
       "    <tr>\n",
       "      <th>2</th>\n",
       "      <td>0</td>\n",
       "      <td>-5623.422610</td>\n",
       "      <td>33</td>\n",
       "      <td>Среднее</td>\n",
       "      <td>1</td>\n",
       "      <td>женат / замужем</td>\n",
       "      <td>0</td>\n",
       "      <td>M</td>\n",
       "      <td>сотрудник</td>\n",
       "      <td>0</td>\n",
       "      <td>145885.952297</td>\n",
       "      <td>покупка жилья</td>\n",
       "    </tr>\n",
       "    <tr>\n",
       "      <th>3</th>\n",
       "      <td>3</td>\n",
       "      <td>-4124.747207</td>\n",
       "      <td>32</td>\n",
       "      <td>среднее</td>\n",
       "      <td>1</td>\n",
       "      <td>женат / замужем</td>\n",
       "      <td>0</td>\n",
       "      <td>M</td>\n",
       "      <td>сотрудник</td>\n",
       "      <td>0</td>\n",
       "      <td>267628.550329</td>\n",
       "      <td>дополнительное образование</td>\n",
       "    </tr>\n",
       "    <tr>\n",
       "      <th>4</th>\n",
       "      <td>0</td>\n",
       "      <td>340266.072047</td>\n",
       "      <td>53</td>\n",
       "      <td>среднее</td>\n",
       "      <td>1</td>\n",
       "      <td>гражданский брак</td>\n",
       "      <td>1</td>\n",
       "      <td>F</td>\n",
       "      <td>пенсионер</td>\n",
       "      <td>0</td>\n",
       "      <td>158616.077870</td>\n",
       "      <td>сыграть свадьбу</td>\n",
       "    </tr>\n",
       "  </tbody>\n",
       "</table>\n",
       "</div>"
      ],
      "text/plain": [
       "   children  days_employed  dob_years education  education_id   \n",
       "0         1   -8437.673028         42    высшее             0  \\\n",
       "1         1   -4024.803754         36   среднее             1   \n",
       "2         0   -5623.422610         33   Среднее             1   \n",
       "3         3   -4124.747207         32   среднее             1   \n",
       "4         0  340266.072047         53   среднее             1   \n",
       "\n",
       "      family_status  family_status_id gender income_type  debt   total_income   \n",
       "0   женат / замужем                 0      F   сотрудник     0  253875.639453  \\\n",
       "1   женат / замужем                 0      F   сотрудник     0  112080.014102   \n",
       "2   женат / замужем                 0      M   сотрудник     0  145885.952297   \n",
       "3   женат / замужем                 0      M   сотрудник     0  267628.550329   \n",
       "4  гражданский брак                 1      F   пенсионер     0  158616.077870   \n",
       "\n",
       "                      purpose  \n",
       "0               покупка жилья  \n",
       "1     приобретение автомобиля  \n",
       "2               покупка жилья  \n",
       "3  дополнительное образование  \n",
       "4             сыграть свадьбу  "
      ]
     },
     "metadata": {},
     "output_type": "display_data"
    }
   ],
   "source": [
    "data = pd.read_csv('data.csv') #выгружаем файл и оцениваем из чего он состоит\n",
    "display(data.info()) \n",
    "display(data.head())"
   ]
  },
  {
   "attachments": {},
   "cell_type": "markdown",
   "id": "6ad97e6d",
   "metadata": {},
   "source": [
    "В таблице 12 столбцов согласно документации:\n",
    "\n",
    "* children — количество детей в семье\n",
    "* days_employed — общий трудовой стаж в днях\n",
    "* dob_years — возраст клиента в годах\n",
    "* education — уровень образования клиента\n",
    "* education_id — идентификатор уровня образования\n",
    "* family_status — семейное положение\n",
    "* family_status_id — идентификатор семейного положения\n",
    "* gender — пол клиента\n",
    "* income_type — тип занятости\n",
    "* debt — имел ли задолженность по возврату кредитов\n",
    "* total_income — ежемесячный доход\n",
    "* purpose — цель получения кредита\n",
    "\n",
    "Нарушений стиля названия столбцов не наблюдается. \n",
    "\n",
    "Разниться количество значений в столбцах, что говорит о пропусках данных. Проверим столбца days_employed и total_income, у них равное количество значений, в одинаковых ли строках пропущенны данные.\n",
    "\n",
    "По столбцу education можно судить, что в столбце есть значения с разным регстром."
   ]
  },
  {
   "attachments": {},
   "cell_type": "markdown",
   "id": "c57294bf",
   "metadata": {},
   "source": [
    "### Шаг 2.1 Заполнение пропусков"
   ]
  },
  {
   "cell_type": "code",
   "execution_count": 322,
   "id": "27672233",
   "metadata": {},
   "outputs": [
    {
     "data": {
      "text/plain": [
       "children               0\n",
       "days_employed       2174\n",
       "dob_years              0\n",
       "education              0\n",
       "education_id           0\n",
       "family_status          0\n",
       "family_status_id       0\n",
       "gender                 0\n",
       "income_type            0\n",
       "debt                   0\n",
       "total_income        2174\n",
       "purpose                0\n",
       "dtype: int64"
      ]
     },
     "execution_count": 322,
     "metadata": {},
     "output_type": "execute_result"
    }
   ],
   "source": [
    "#проверка сколько пропусков находиться в столбцах\n",
    "data.isna().sum()"
   ]
  },
  {
   "cell_type": "code",
   "execution_count": 323,
   "id": "023364ec",
   "metadata": {},
   "outputs": [
    {
     "data": {
      "text/plain": [
       "children            True\n",
       "days_employed       True\n",
       "dob_years           True\n",
       "education           True\n",
       "education_id        True\n",
       "family_status       True\n",
       "family_status_id    True\n",
       "gender              True\n",
       "income_type         True\n",
       "debt                True\n",
       "total_income        True\n",
       "purpose             True\n",
       "dtype: bool"
      ]
     },
     "execution_count": 323,
     "metadata": {},
     "output_type": "execute_result"
    }
   ],
   "source": [
    "#  проверим в одинаковых ли строках пропущенны значения\n",
    "data[data['days_employed'].isna()].all()==data[data['total_income'].isna()].all() "
   ]
  },
  {
   "cell_type": "code",
   "execution_count": 324,
   "id": "30675923",
   "metadata": {},
   "outputs": [
    {
     "data": {
      "text/plain": [
       "children            0.000000\n",
       "days_employed       0.100999\n",
       "dob_years           0.000000\n",
       "education           0.000000\n",
       "education_id        0.000000\n",
       "family_status       0.000000\n",
       "family_status_id    0.000000\n",
       "gender              0.000000\n",
       "income_type         0.000000\n",
       "debt                0.000000\n",
       "total_income        0.100999\n",
       "purpose             0.000000\n",
       "dtype: float64"
      ]
     },
     "execution_count": 324,
     "metadata": {},
     "output_type": "execute_result"
    }
   ],
   "source": [
    "#вычислим процент пропусков относительно общего количества данных в столбцах\n",
    "data.isna().sum()/data.shape[0]"
   ]
  },
  {
   "cell_type": "code",
   "execution_count": 325,
   "id": "f0630127",
   "metadata": {},
   "outputs": [
    {
     "data": {
      "text/html": [
       "<div>\n",
       "<style scoped>\n",
       "    .dataframe tbody tr th:only-of-type {\n",
       "        vertical-align: middle;\n",
       "    }\n",
       "\n",
       "    .dataframe tbody tr th {\n",
       "        vertical-align: top;\n",
       "    }\n",
       "\n",
       "    .dataframe thead th {\n",
       "        text-align: right;\n",
       "    }\n",
       "</style>\n",
       "<table border=\"1\" class=\"dataframe\">\n",
       "  <thead>\n",
       "    <tr style=\"text-align: right;\">\n",
       "      <th></th>\n",
       "      <th>children</th>\n",
       "      <th>days_employed</th>\n",
       "      <th>dob_years</th>\n",
       "      <th>education</th>\n",
       "      <th>education_id</th>\n",
       "      <th>family_status</th>\n",
       "      <th>family_status_id</th>\n",
       "      <th>gender</th>\n",
       "      <th>income_type</th>\n",
       "      <th>debt</th>\n",
       "      <th>total_income</th>\n",
       "      <th>purpose</th>\n",
       "    </tr>\n",
       "  </thead>\n",
       "  <tbody>\n",
       "    <tr>\n",
       "      <th>12</th>\n",
       "      <td>0</td>\n",
       "      <td>NaN</td>\n",
       "      <td>65</td>\n",
       "      <td>среднее</td>\n",
       "      <td>1</td>\n",
       "      <td>гражданский брак</td>\n",
       "      <td>1</td>\n",
       "      <td>M</td>\n",
       "      <td>пенсионер</td>\n",
       "      <td>0</td>\n",
       "      <td>NaN</td>\n",
       "      <td>сыграть свадьбу</td>\n",
       "    </tr>\n",
       "    <tr>\n",
       "      <th>26</th>\n",
       "      <td>0</td>\n",
       "      <td>NaN</td>\n",
       "      <td>41</td>\n",
       "      <td>среднее</td>\n",
       "      <td>1</td>\n",
       "      <td>женат / замужем</td>\n",
       "      <td>0</td>\n",
       "      <td>M</td>\n",
       "      <td>госслужащий</td>\n",
       "      <td>0</td>\n",
       "      <td>NaN</td>\n",
       "      <td>образование</td>\n",
       "    </tr>\n",
       "    <tr>\n",
       "      <th>29</th>\n",
       "      <td>0</td>\n",
       "      <td>NaN</td>\n",
       "      <td>63</td>\n",
       "      <td>среднее</td>\n",
       "      <td>1</td>\n",
       "      <td>Не женат / не замужем</td>\n",
       "      <td>4</td>\n",
       "      <td>F</td>\n",
       "      <td>пенсионер</td>\n",
       "      <td>0</td>\n",
       "      <td>NaN</td>\n",
       "      <td>строительство жилой недвижимости</td>\n",
       "    </tr>\n",
       "    <tr>\n",
       "      <th>41</th>\n",
       "      <td>0</td>\n",
       "      <td>NaN</td>\n",
       "      <td>50</td>\n",
       "      <td>среднее</td>\n",
       "      <td>1</td>\n",
       "      <td>женат / замужем</td>\n",
       "      <td>0</td>\n",
       "      <td>F</td>\n",
       "      <td>госслужащий</td>\n",
       "      <td>0</td>\n",
       "      <td>NaN</td>\n",
       "      <td>сделка с подержанным автомобилем</td>\n",
       "    </tr>\n",
       "    <tr>\n",
       "      <th>55</th>\n",
       "      <td>0</td>\n",
       "      <td>NaN</td>\n",
       "      <td>54</td>\n",
       "      <td>среднее</td>\n",
       "      <td>1</td>\n",
       "      <td>гражданский брак</td>\n",
       "      <td>1</td>\n",
       "      <td>F</td>\n",
       "      <td>пенсионер</td>\n",
       "      <td>1</td>\n",
       "      <td>NaN</td>\n",
       "      <td>сыграть свадьбу</td>\n",
       "    </tr>\n",
       "  </tbody>\n",
       "</table>\n",
       "</div>"
      ],
      "text/plain": [
       "    children  days_employed  dob_years education  education_id   \n",
       "12         0            NaN         65   среднее             1  \\\n",
       "26         0            NaN         41   среднее             1   \n",
       "29         0            NaN         63   среднее             1   \n",
       "41         0            NaN         50   среднее             1   \n",
       "55         0            NaN         54   среднее             1   \n",
       "\n",
       "            family_status  family_status_id gender  income_type  debt   \n",
       "12       гражданский брак                 1      M    пенсионер     0  \\\n",
       "26        женат / замужем                 0      M  госслужащий     0   \n",
       "29  Не женат / не замужем                 4      F    пенсионер     0   \n",
       "41        женат / замужем                 0      F  госслужащий     0   \n",
       "55       гражданский брак                 1      F    пенсионер     1   \n",
       "\n",
       "    total_income                           purpose  \n",
       "12           NaN                   сыграть свадьбу  \n",
       "26           NaN                       образование  \n",
       "29           NaN  строительство жилой недвижимости  \n",
       "41           NaN  сделка с подержанным автомобилем  \n",
       "55           NaN                   сыграть свадьбу  "
      ]
     },
     "execution_count": 325,
     "metadata": {},
     "output_type": "execute_result"
    }
   ],
   "source": [
    "# взглянем на первые 5 строк с пустыми данными\n",
    "data.query('total_income.isna()').head()"
   ]
  },
  {
   "attachments": {},
   "cell_type": "markdown",
   "id": "5d296a40",
   "metadata": {},
   "source": [
    "Имеется наличие пропусков в столбце \"days_employed\" (общий трудовой стаж в днях) и \"total_income\" (ежемесячный доход). Строки с пропусками составляют 10% от общего объема данных, это много, чтобы их просто удалить. \n",
    "\n",
    "Между пропущенными значениями и категориями граждан нет никакой связи, пропуски могли появиться по различным техническим причинам или последствием недоработки формы заявки. Нулевой стаж и следовательно 0 доход, что заменились на пропуск или же не заполнив одну форму автоматически недоступна другая.\n",
    "\n",
    "Так как истинная причина неизвестна, заполним пропуски медианными значениями в столбце days_employed, а со столбцом total_income разберемся позже."
   ]
  },
  {
   "cell_type": "code",
   "execution_count": 326,
   "id": "6e6c17f7",
   "metadata": {},
   "outputs": [],
   "source": [
    "# заполним пропуски в столбцах медианными значениями\n",
    "data['days_employed'] = data['days_employed'].fillna(data['days_employed'].median())"
   ]
  },
  {
   "cell_type": "code",
   "execution_count": 327,
   "id": "262bfdc0",
   "metadata": {},
   "outputs": [
    {
     "data": {
      "text/plain": [
       "children               0\n",
       "days_employed          0\n",
       "dob_years              0\n",
       "education              0\n",
       "education_id           0\n",
       "family_status          0\n",
       "family_status_id       0\n",
       "gender                 0\n",
       "income_type            0\n",
       "debt                   0\n",
       "total_income        2174\n",
       "purpose                0\n",
       "dtype: int64"
      ]
     },
     "execution_count": 327,
     "metadata": {},
     "output_type": "execute_result"
    }
   ],
   "source": [
    "# проверим наличие пропусков\n",
    "data.isna().sum()"
   ]
  },
  {
   "attachments": {},
   "cell_type": "markdown",
   "id": "841b572b",
   "metadata": {},
   "source": [
    "### Шаг 2.2 Проверка данных на аномалии и исправления."
   ]
  },
  {
   "cell_type": "code",
   "execution_count": 328,
   "id": "ee9bf155",
   "metadata": {},
   "outputs": [
    {
     "name": "stdout",
     "output_type": "stream",
     "text": [
      "children - [ 1  0  3  2 -1  4 20  5] \n",
      "\n",
      "-------------------------------------------------- \n",
      "\n",
      "days_employed - [-8437.67302776 -4024.80375385 -5623.42261023 ... -2113.3468877\n",
      " -3112.4817052  -1984.50758853] \n",
      "\n",
      "-------------------------------------------------- \n",
      "\n",
      "dob_years - [42 36 33 32 53 27 43 50 35 41 40 65 54 56 26 48 24 21 57 67 28 63 62 47\n",
      " 34 68 25 31 30 20 49 37 45 61 64 44 52 46 23 38 39 51  0 59 29 60 55 58\n",
      " 71 22 73 66 69 19 72 70 74 75] \n",
      "\n",
      "-------------------------------------------------- \n",
      "\n",
      "education - ['высшее' 'среднее' 'Среднее' 'СРЕДНЕЕ' 'ВЫСШЕЕ' 'неоконченное высшее'\n",
      " 'начальное' 'Высшее' 'НЕОКОНЧЕННОЕ ВЫСШЕЕ' 'Неоконченное высшее'\n",
      " 'НАЧАЛЬНОЕ' 'Начальное' 'Ученая степень' 'УЧЕНАЯ СТЕПЕНЬ'\n",
      " 'ученая степень'] \n",
      "\n",
      "-------------------------------------------------- \n",
      "\n",
      "education_id - [0 1 2 3 4] \n",
      "\n",
      "-------------------------------------------------- \n",
      "\n",
      "family_status - ['женат / замужем' 'гражданский брак' 'вдовец / вдова' 'в разводе'\n",
      " 'Не женат / не замужем'] \n",
      "\n",
      "-------------------------------------------------- \n",
      "\n",
      "family_status_id - [0 1 2 3 4] \n",
      "\n",
      "-------------------------------------------------- \n",
      "\n",
      "gender - ['F' 'M' 'XNA'] \n",
      "\n",
      "-------------------------------------------------- \n",
      "\n",
      "income_type - ['сотрудник' 'пенсионер' 'компаньон' 'госслужащий' 'безработный'\n",
      " 'предприниматель' 'студент' 'в декрете'] \n",
      "\n",
      "-------------------------------------------------- \n",
      "\n",
      "debt - [0 1] \n",
      "\n",
      "-------------------------------------------------- \n",
      "\n",
      "total_income - [253875.6394526  112080.01410244 145885.95229686 ...  89672.56115303\n",
      " 244093.05050043  82047.41889948] \n",
      "\n",
      "-------------------------------------------------- \n",
      "\n",
      "purpose - ['покупка жилья' 'приобретение автомобиля' 'дополнительное образование'\n",
      " 'сыграть свадьбу' 'операции с жильем' 'образование'\n",
      " 'на проведение свадьбы' 'покупка жилья для семьи' 'покупка недвижимости'\n",
      " 'покупка коммерческой недвижимости' 'покупка жилой недвижимости'\n",
      " 'строительство собственной недвижимости' 'недвижимость'\n",
      " 'строительство недвижимости' 'на покупку подержанного автомобиля'\n",
      " 'на покупку своего автомобиля' 'операции с коммерческой недвижимостью'\n",
      " 'строительство жилой недвижимости' 'жилье'\n",
      " 'операции со своей недвижимостью' 'автомобили' 'заняться образованием'\n",
      " 'сделка с подержанным автомобилем' 'получение образования' 'автомобиль'\n",
      " 'свадьба' 'получение дополнительного образования' 'покупка своего жилья'\n",
      " 'операции с недвижимостью' 'получение высшего образования'\n",
      " 'свой автомобиль' 'сделка с автомобилем' 'профильное образование'\n",
      " 'высшее образование' 'покупка жилья для сдачи' 'на покупку автомобиля'\n",
      " 'ремонт жилью' 'заняться высшим образованием'] \n",
      "\n",
      "-------------------------------------------------- \n",
      "\n"
     ]
    }
   ],
   "source": [
    "# Посмотрим значения каждого столбца на уникальность и артефакты\n",
    "for i in data.columns:\n",
    "    print(f'{i} - {data[i].unique()}', '\\n')\n",
    "    print('-'*50, '\\n')"
   ]
  },
  {
   "attachments": {},
   "cell_type": "markdown",
   "id": "a3e04533",
   "metadata": {},
   "source": [
    "Что выявили:\n",
    "\n",
    "* Отрицательные значения в стобцах children, days_employed.\n",
    "* Значение 20 в столбце children\n",
    "* Значение 0 в столбце dob_years\n",
    "* Неявные дубликаты в столбце education (разное написание), purpose (разными словами описана одна и та же цель)\n",
    "* Разный регистр наименования признаков в столбце family_status\n",
    "* Наличие третьего пола (неявного попуска) в столбце gender\n",
    "* Наличие большого количества знаков после запятой в столбцах days_employed, total_income"
   ]
  },
  {
   "attachments": {},
   "cell_type": "markdown",
   "id": "7354f7a9",
   "metadata": {},
   "source": [
    " Для каждого артефакта посмотрим как выглядят строки, в которых он находится, а также количество таких строк"
   ]
  },
  {
   "cell_type": "code",
   "execution_count": 329,
   "id": "8dfb3143",
   "metadata": {},
   "outputs": [
    {
     "name": "stdout",
     "output_type": "stream",
     "text": [
      "47\n"
     ]
    },
    {
     "data": {
      "text/html": [
       "<div>\n",
       "<style scoped>\n",
       "    .dataframe tbody tr th:only-of-type {\n",
       "        vertical-align: middle;\n",
       "    }\n",
       "\n",
       "    .dataframe tbody tr th {\n",
       "        vertical-align: top;\n",
       "    }\n",
       "\n",
       "    .dataframe thead th {\n",
       "        text-align: right;\n",
       "    }\n",
       "</style>\n",
       "<table border=\"1\" class=\"dataframe\">\n",
       "  <thead>\n",
       "    <tr style=\"text-align: right;\">\n",
       "      <th></th>\n",
       "      <th>children</th>\n",
       "      <th>days_employed</th>\n",
       "      <th>dob_years</th>\n",
       "      <th>education</th>\n",
       "      <th>education_id</th>\n",
       "      <th>family_status</th>\n",
       "      <th>family_status_id</th>\n",
       "      <th>gender</th>\n",
       "      <th>income_type</th>\n",
       "      <th>debt</th>\n",
       "      <th>total_income</th>\n",
       "      <th>purpose</th>\n",
       "    </tr>\n",
       "  </thead>\n",
       "  <tbody>\n",
       "    <tr>\n",
       "      <th>291</th>\n",
       "      <td>-1</td>\n",
       "      <td>-4417.703588</td>\n",
       "      <td>46</td>\n",
       "      <td>среднее</td>\n",
       "      <td>1</td>\n",
       "      <td>гражданский брак</td>\n",
       "      <td>1</td>\n",
       "      <td>F</td>\n",
       "      <td>сотрудник</td>\n",
       "      <td>0</td>\n",
       "      <td>102816.346412</td>\n",
       "      <td>профильное образование</td>\n",
       "    </tr>\n",
       "    <tr>\n",
       "      <th>705</th>\n",
       "      <td>-1</td>\n",
       "      <td>-902.084528</td>\n",
       "      <td>50</td>\n",
       "      <td>среднее</td>\n",
       "      <td>1</td>\n",
       "      <td>женат / замужем</td>\n",
       "      <td>0</td>\n",
       "      <td>F</td>\n",
       "      <td>госслужащий</td>\n",
       "      <td>0</td>\n",
       "      <td>137882.899271</td>\n",
       "      <td>приобретение автомобиля</td>\n",
       "    </tr>\n",
       "    <tr>\n",
       "      <th>742</th>\n",
       "      <td>-1</td>\n",
       "      <td>-3174.456205</td>\n",
       "      <td>57</td>\n",
       "      <td>среднее</td>\n",
       "      <td>1</td>\n",
       "      <td>женат / замужем</td>\n",
       "      <td>0</td>\n",
       "      <td>F</td>\n",
       "      <td>сотрудник</td>\n",
       "      <td>0</td>\n",
       "      <td>64268.044444</td>\n",
       "      <td>дополнительное образование</td>\n",
       "    </tr>\n",
       "    <tr>\n",
       "      <th>800</th>\n",
       "      <td>-1</td>\n",
       "      <td>349987.852217</td>\n",
       "      <td>54</td>\n",
       "      <td>среднее</td>\n",
       "      <td>1</td>\n",
       "      <td>Не женат / не замужем</td>\n",
       "      <td>4</td>\n",
       "      <td>F</td>\n",
       "      <td>пенсионер</td>\n",
       "      <td>0</td>\n",
       "      <td>86293.724153</td>\n",
       "      <td>дополнительное образование</td>\n",
       "    </tr>\n",
       "    <tr>\n",
       "      <th>941</th>\n",
       "      <td>-1</td>\n",
       "      <td>-1203.369529</td>\n",
       "      <td>57</td>\n",
       "      <td>Среднее</td>\n",
       "      <td>1</td>\n",
       "      <td>женат / замужем</td>\n",
       "      <td>0</td>\n",
       "      <td>F</td>\n",
       "      <td>пенсионер</td>\n",
       "      <td>0</td>\n",
       "      <td>NaN</td>\n",
       "      <td>на покупку своего автомобиля</td>\n",
       "    </tr>\n",
       "  </tbody>\n",
       "</table>\n",
       "</div>"
      ],
      "text/plain": [
       "     children  days_employed  dob_years education  education_id   \n",
       "291        -1   -4417.703588         46   среднее             1  \\\n",
       "705        -1    -902.084528         50   среднее             1   \n",
       "742        -1   -3174.456205         57   среднее             1   \n",
       "800        -1  349987.852217         54   среднее             1   \n",
       "941        -1   -1203.369529         57   Среднее             1   \n",
       "\n",
       "             family_status  family_status_id gender  income_type  debt   \n",
       "291       гражданский брак                 1      F    сотрудник     0  \\\n",
       "705        женат / замужем                 0      F  госслужащий     0   \n",
       "742        женат / замужем                 0      F    сотрудник     0   \n",
       "800  Не женат / не замужем                 4      F    пенсионер     0   \n",
       "941        женат / замужем                 0      F    пенсионер     0   \n",
       "\n",
       "      total_income                       purpose  \n",
       "291  102816.346412        профильное образование  \n",
       "705  137882.899271       приобретение автомобиля  \n",
       "742   64268.044444    дополнительное образование  \n",
       "800   86293.724153    дополнительное образование  \n",
       "941            NaN  на покупку своего автомобиля  "
      ]
     },
     "execution_count": 329,
     "metadata": {},
     "output_type": "execute_result"
    }
   ],
   "source": [
    "# количество отрицательных значений в столбце children\n",
    "print(len(data.query('children == -1')))\n",
    "data.query('children == -1').head()"
   ]
  },
  {
   "cell_type": "code",
   "execution_count": 330,
   "id": "bf4529ea",
   "metadata": {},
   "outputs": [],
   "source": [
    "# заменим отрицательные значения в столбце choldren на положительные\n",
    "data['children']=data['children'].abs()"
   ]
  },
  {
   "attachments": {},
   "cell_type": "markdown",
   "id": "017dab4d",
   "metadata": {},
   "source": [
    "Количество отрицательных значений весьма мало 47 строк из 21525. Визуально никаких отличий от других данных не наблюдается. Вероятное возникновение ошибки - обычная человечкская опечатка.\n",
    "\n",
    "Смущает количество детей равное 20, оно выбивается из общего списка значений."
   ]
  },
  {
   "cell_type": "code",
   "execution_count": 331,
   "id": "66db4d42",
   "metadata": {},
   "outputs": [
    {
     "name": "stdout",
     "output_type": "stream",
     "text": [
      "76\n"
     ]
    },
    {
     "data": {
      "text/html": [
       "<div>\n",
       "<style scoped>\n",
       "    .dataframe tbody tr th:only-of-type {\n",
       "        vertical-align: middle;\n",
       "    }\n",
       "\n",
       "    .dataframe tbody tr th {\n",
       "        vertical-align: top;\n",
       "    }\n",
       "\n",
       "    .dataframe thead th {\n",
       "        text-align: right;\n",
       "    }\n",
       "</style>\n",
       "<table border=\"1\" class=\"dataframe\">\n",
       "  <thead>\n",
       "    <tr style=\"text-align: right;\">\n",
       "      <th></th>\n",
       "      <th>children</th>\n",
       "      <th>days_employed</th>\n",
       "      <th>dob_years</th>\n",
       "      <th>education</th>\n",
       "      <th>education_id</th>\n",
       "      <th>family_status</th>\n",
       "      <th>family_status_id</th>\n",
       "      <th>gender</th>\n",
       "      <th>income_type</th>\n",
       "      <th>debt</th>\n",
       "      <th>total_income</th>\n",
       "      <th>purpose</th>\n",
       "    </tr>\n",
       "  </thead>\n",
       "  <tbody>\n",
       "    <tr>\n",
       "      <th>606</th>\n",
       "      <td>20</td>\n",
       "      <td>-880.221113</td>\n",
       "      <td>21</td>\n",
       "      <td>среднее</td>\n",
       "      <td>1</td>\n",
       "      <td>женат / замужем</td>\n",
       "      <td>0</td>\n",
       "      <td>M</td>\n",
       "      <td>компаньон</td>\n",
       "      <td>0</td>\n",
       "      <td>145334.865002</td>\n",
       "      <td>покупка жилья</td>\n",
       "    </tr>\n",
       "    <tr>\n",
       "      <th>720</th>\n",
       "      <td>20</td>\n",
       "      <td>-855.595512</td>\n",
       "      <td>44</td>\n",
       "      <td>среднее</td>\n",
       "      <td>1</td>\n",
       "      <td>женат / замужем</td>\n",
       "      <td>0</td>\n",
       "      <td>F</td>\n",
       "      <td>компаньон</td>\n",
       "      <td>0</td>\n",
       "      <td>112998.738649</td>\n",
       "      <td>покупка недвижимости</td>\n",
       "    </tr>\n",
       "    <tr>\n",
       "      <th>1074</th>\n",
       "      <td>20</td>\n",
       "      <td>-3310.411598</td>\n",
       "      <td>56</td>\n",
       "      <td>среднее</td>\n",
       "      <td>1</td>\n",
       "      <td>женат / замужем</td>\n",
       "      <td>0</td>\n",
       "      <td>F</td>\n",
       "      <td>сотрудник</td>\n",
       "      <td>1</td>\n",
       "      <td>229518.537004</td>\n",
       "      <td>получение образования</td>\n",
       "    </tr>\n",
       "    <tr>\n",
       "      <th>2510</th>\n",
       "      <td>20</td>\n",
       "      <td>-2714.161249</td>\n",
       "      <td>59</td>\n",
       "      <td>высшее</td>\n",
       "      <td>0</td>\n",
       "      <td>вдовец / вдова</td>\n",
       "      <td>2</td>\n",
       "      <td>F</td>\n",
       "      <td>сотрудник</td>\n",
       "      <td>0</td>\n",
       "      <td>264474.835577</td>\n",
       "      <td>операции с коммерческой недвижимостью</td>\n",
       "    </tr>\n",
       "    <tr>\n",
       "      <th>2941</th>\n",
       "      <td>20</td>\n",
       "      <td>-2161.591519</td>\n",
       "      <td>0</td>\n",
       "      <td>среднее</td>\n",
       "      <td>1</td>\n",
       "      <td>женат / замужем</td>\n",
       "      <td>0</td>\n",
       "      <td>F</td>\n",
       "      <td>сотрудник</td>\n",
       "      <td>0</td>\n",
       "      <td>199739.941398</td>\n",
       "      <td>на покупку автомобиля</td>\n",
       "    </tr>\n",
       "  </tbody>\n",
       "</table>\n",
       "</div>"
      ],
      "text/plain": [
       "      children  days_employed  dob_years education  education_id   \n",
       "606         20    -880.221113         21   среднее             1  \\\n",
       "720         20    -855.595512         44   среднее             1   \n",
       "1074        20   -3310.411598         56   среднее             1   \n",
       "2510        20   -2714.161249         59    высшее             0   \n",
       "2941        20   -2161.591519          0   среднее             1   \n",
       "\n",
       "        family_status  family_status_id gender income_type  debt   \n",
       "606   женат / замужем                 0      M   компаньон     0  \\\n",
       "720   женат / замужем                 0      F   компаньон     0   \n",
       "1074  женат / замужем                 0      F   сотрудник     1   \n",
       "2510   вдовец / вдова                 2      F   сотрудник     0   \n",
       "2941  женат / замужем                 0      F   сотрудник     0   \n",
       "\n",
       "       total_income                                purpose  \n",
       "606   145334.865002                          покупка жилья  \n",
       "720   112998.738649                   покупка недвижимости  \n",
       "1074  229518.537004                  получение образования  \n",
       "2510  264474.835577  операции с коммерческой недвижимостью  \n",
       "2941  199739.941398                  на покупку автомобиля  "
      ]
     },
     "execution_count": 331,
     "metadata": {},
     "output_type": "execute_result"
    }
   ],
   "source": [
    "# количество значений равное 20 в столбце children\n",
    "print(len(data.query('children == 20')))\n",
    "data.query('children == 20').head()"
   ]
  },
  {
   "attachments": {},
   "cell_type": "markdown",
   "id": "2f5dda46",
   "metadata": {},
   "source": [
    "76 значений с количеством детей 20 штук, это подозрительно, наверно система считала значение 20 случайно, считав пробел и поставив вместо пробела 0 или пользователь поставил сам его случайно. Заменим данное значение на \"2\"."
   ]
  },
  {
   "cell_type": "code",
   "execution_count": 332,
   "id": "070b1046",
   "metadata": {},
   "outputs": [
    {
     "data": {
      "text/plain": [
       "children\n",
       "0    14149\n",
       "1     4865\n",
       "2     2131\n",
       "3      330\n",
       "4       41\n",
       "5        9\n",
       "Name: count, dtype: int64"
      ]
     },
     "execution_count": 332,
     "metadata": {},
     "output_type": "execute_result"
    }
   ],
   "source": [
    "# заменим значение 20 детей на 2 с помощью метода apply и анонимной lambda функции с логическим оператором\n",
    "data['children'] = data['children'].apply(lambda x: x//10 if x==20 else x) \n",
    "data['children'].value_counts()"
   ]
  },
  {
   "cell_type": "code",
   "execution_count": 333,
   "id": "855bb58e",
   "metadata": {},
   "outputs": [
    {
     "name": "stdout",
     "output_type": "stream",
     "text": [
      "18080\n"
     ]
    },
    {
     "data": {
      "text/html": [
       "<div>\n",
       "<style scoped>\n",
       "    .dataframe tbody tr th:only-of-type {\n",
       "        vertical-align: middle;\n",
       "    }\n",
       "\n",
       "    .dataframe tbody tr th {\n",
       "        vertical-align: top;\n",
       "    }\n",
       "\n",
       "    .dataframe thead th {\n",
       "        text-align: right;\n",
       "    }\n",
       "</style>\n",
       "<table border=\"1\" class=\"dataframe\">\n",
       "  <thead>\n",
       "    <tr style=\"text-align: right;\">\n",
       "      <th></th>\n",
       "      <th>children</th>\n",
       "      <th>days_employed</th>\n",
       "      <th>dob_years</th>\n",
       "      <th>education</th>\n",
       "      <th>education_id</th>\n",
       "      <th>family_status</th>\n",
       "      <th>family_status_id</th>\n",
       "      <th>gender</th>\n",
       "      <th>income_type</th>\n",
       "      <th>debt</th>\n",
       "      <th>total_income</th>\n",
       "      <th>purpose</th>\n",
       "    </tr>\n",
       "  </thead>\n",
       "  <tbody>\n",
       "    <tr>\n",
       "      <th>6954</th>\n",
       "      <td>0</td>\n",
       "      <td>401755</td>\n",
       "      <td>56</td>\n",
       "      <td>среднее</td>\n",
       "      <td>1</td>\n",
       "      <td>вдовец / вдова</td>\n",
       "      <td>2</td>\n",
       "      <td>F</td>\n",
       "      <td>пенсионер</td>\n",
       "      <td>0</td>\n",
       "      <td>176278.441171</td>\n",
       "      <td>ремонт жилью</td>\n",
       "    </tr>\n",
       "    <tr>\n",
       "      <th>10006</th>\n",
       "      <td>0</td>\n",
       "      <td>401715</td>\n",
       "      <td>69</td>\n",
       "      <td>высшее</td>\n",
       "      <td>0</td>\n",
       "      <td>Не женат / не замужем</td>\n",
       "      <td>4</td>\n",
       "      <td>F</td>\n",
       "      <td>пенсионер</td>\n",
       "      <td>0</td>\n",
       "      <td>57390.256908</td>\n",
       "      <td>получение образования</td>\n",
       "    </tr>\n",
       "    <tr>\n",
       "      <th>7664</th>\n",
       "      <td>1</td>\n",
       "      <td>401675</td>\n",
       "      <td>61</td>\n",
       "      <td>среднее</td>\n",
       "      <td>1</td>\n",
       "      <td>женат / замужем</td>\n",
       "      <td>0</td>\n",
       "      <td>F</td>\n",
       "      <td>пенсионер</td>\n",
       "      <td>0</td>\n",
       "      <td>126214.519212</td>\n",
       "      <td>операции с жильем</td>\n",
       "    </tr>\n",
       "    <tr>\n",
       "      <th>2156</th>\n",
       "      <td>0</td>\n",
       "      <td>401674</td>\n",
       "      <td>60</td>\n",
       "      <td>среднее</td>\n",
       "      <td>1</td>\n",
       "      <td>женат / замужем</td>\n",
       "      <td>0</td>\n",
       "      <td>M</td>\n",
       "      <td>пенсионер</td>\n",
       "      <td>0</td>\n",
       "      <td>325395.724541</td>\n",
       "      <td>автомобили</td>\n",
       "    </tr>\n",
       "    <tr>\n",
       "      <th>7794</th>\n",
       "      <td>0</td>\n",
       "      <td>401663</td>\n",
       "      <td>61</td>\n",
       "      <td>среднее</td>\n",
       "      <td>1</td>\n",
       "      <td>гражданский брак</td>\n",
       "      <td>1</td>\n",
       "      <td>F</td>\n",
       "      <td>пенсионер</td>\n",
       "      <td>0</td>\n",
       "      <td>48286.441362</td>\n",
       "      <td>свадьба</td>\n",
       "    </tr>\n",
       "    <tr>\n",
       "      <th>...</th>\n",
       "      <td>...</td>\n",
       "      <td>...</td>\n",
       "      <td>...</td>\n",
       "      <td>...</td>\n",
       "      <td>...</td>\n",
       "      <td>...</td>\n",
       "      <td>...</td>\n",
       "      <td>...</td>\n",
       "      <td>...</td>\n",
       "      <td>...</td>\n",
       "      <td>...</td>\n",
       "      <td>...</td>\n",
       "    </tr>\n",
       "    <tr>\n",
       "      <th>2127</th>\n",
       "      <td>1</td>\n",
       "      <td>34</td>\n",
       "      <td>31</td>\n",
       "      <td>высшее</td>\n",
       "      <td>0</td>\n",
       "      <td>женат / замужем</td>\n",
       "      <td>0</td>\n",
       "      <td>F</td>\n",
       "      <td>компаньон</td>\n",
       "      <td>0</td>\n",
       "      <td>90557.994311</td>\n",
       "      <td>получение образования</td>\n",
       "    </tr>\n",
       "    <tr>\n",
       "      <th>9683</th>\n",
       "      <td>0</td>\n",
       "      <td>33</td>\n",
       "      <td>43</td>\n",
       "      <td>среднее</td>\n",
       "      <td>1</td>\n",
       "      <td>Не женат / не замужем</td>\n",
       "      <td>4</td>\n",
       "      <td>M</td>\n",
       "      <td>сотрудник</td>\n",
       "      <td>1</td>\n",
       "      <td>128555.897209</td>\n",
       "      <td>приобретение автомобиля</td>\n",
       "    </tr>\n",
       "    <tr>\n",
       "      <th>6157</th>\n",
       "      <td>2</td>\n",
       "      <td>30</td>\n",
       "      <td>47</td>\n",
       "      <td>среднее</td>\n",
       "      <td>1</td>\n",
       "      <td>гражданский брак</td>\n",
       "      <td>1</td>\n",
       "      <td>M</td>\n",
       "      <td>компаньон</td>\n",
       "      <td>0</td>\n",
       "      <td>231461.185606</td>\n",
       "      <td>свадьба</td>\n",
       "    </tr>\n",
       "    <tr>\n",
       "      <th>8336</th>\n",
       "      <td>0</td>\n",
       "      <td>24</td>\n",
       "      <td>32</td>\n",
       "      <td>высшее</td>\n",
       "      <td>0</td>\n",
       "      <td>Не женат / не замужем</td>\n",
       "      <td>4</td>\n",
       "      <td>M</td>\n",
       "      <td>сотрудник</td>\n",
       "      <td>0</td>\n",
       "      <td>124115.373655</td>\n",
       "      <td>получение дополнительного образования</td>\n",
       "    </tr>\n",
       "    <tr>\n",
       "      <th>17437</th>\n",
       "      <td>1</td>\n",
       "      <td>24</td>\n",
       "      <td>31</td>\n",
       "      <td>среднее</td>\n",
       "      <td>1</td>\n",
       "      <td>женат / замужем</td>\n",
       "      <td>0</td>\n",
       "      <td>F</td>\n",
       "      <td>сотрудник</td>\n",
       "      <td>1</td>\n",
       "      <td>166952.415427</td>\n",
       "      <td>высшее образование</td>\n",
       "    </tr>\n",
       "  </tbody>\n",
       "</table>\n",
       "<p>21525 rows × 12 columns</p>\n",
       "</div>"
      ],
      "text/plain": [
       "       children  days_employed  dob_years education  education_id   \n",
       "6954          0         401755         56   среднее             1  \\\n",
       "10006         0         401715         69    высшее             0   \n",
       "7664          1         401675         61   среднее             1   \n",
       "2156          0         401674         60   среднее             1   \n",
       "7794          0         401663         61   среднее             1   \n",
       "...         ...            ...        ...       ...           ...   \n",
       "2127          1             34         31    высшее             0   \n",
       "9683          0             33         43   среднее             1   \n",
       "6157          2             30         47   среднее             1   \n",
       "8336          0             24         32    высшее             0   \n",
       "17437         1             24         31   среднее             1   \n",
       "\n",
       "               family_status  family_status_id gender income_type  debt   \n",
       "6954          вдовец / вдова                 2      F   пенсионер     0  \\\n",
       "10006  Не женат / не замужем                 4      F   пенсионер     0   \n",
       "7664         женат / замужем                 0      F   пенсионер     0   \n",
       "2156         женат / замужем                 0      M   пенсионер     0   \n",
       "7794        гражданский брак                 1      F   пенсионер     0   \n",
       "...                      ...               ...    ...         ...   ...   \n",
       "2127         женат / замужем                 0      F   компаньон     0   \n",
       "9683   Не женат / не замужем                 4      M   сотрудник     1   \n",
       "6157        гражданский брак                 1      M   компаньон     0   \n",
       "8336   Не женат / не замужем                 4      M   сотрудник     0   \n",
       "17437        женат / замужем                 0      F   сотрудник     1   \n",
       "\n",
       "        total_income                                purpose  \n",
       "6954   176278.441171                           ремонт жилью  \n",
       "10006   57390.256908                  получение образования  \n",
       "7664   126214.519212                      операции с жильем  \n",
       "2156   325395.724541                             автомобили  \n",
       "7794    48286.441362                                свадьба  \n",
       "...              ...                                    ...  \n",
       "2127    90557.994311                  получение образования  \n",
       "9683   128555.897209                приобретение автомобиля  \n",
       "6157   231461.185606                                свадьба  \n",
       "8336   124115.373655  получение дополнительного образования  \n",
       "17437  166952.415427                     высшее образование  \n",
       "\n",
       "[21525 rows x 12 columns]"
      ]
     },
     "execution_count": 333,
     "metadata": {},
     "output_type": "execute_result"
    }
   ],
   "source": [
    "print(len(data.query('days_employed<0'))) # количество отрицательных значений дней стажа \n",
    "data['days_employed'] = data['days_employed'].abs().astype(int)  # преобразуем все отрицательные значения и приведем к целому значению\n",
    "data.sort_values(by='days_employed',ascending=False) # сортируем значения по столбцу стажа работы по убыванию "
   ]
  },
  {
   "attachments": {},
   "cell_type": "markdown",
   "id": "052f8445",
   "metadata": {},
   "source": [
    "18080 значений имеют отрицательный знак, это явно какая то системная ошибка. Так же есть значения, что имеют нереалистичный стаж работы, 401663 дней.\n",
    "\n",
    "Возьмем за максимальную планку по стажу 55 лет или 20000 дней."
   ]
  },
  {
   "cell_type": "code",
   "execution_count": 334,
   "id": "ff2aa49d",
   "metadata": {},
   "outputs": [
    {
     "name": "stdout",
     "output_type": "stream",
     "text": [
      "Количество нереалистичных значений стажа: 3445\n",
      "Количество пенсионеров всего: 11122\n"
     ]
    },
    {
     "data": {
      "text/html": [
       "<div>\n",
       "<style scoped>\n",
       "    .dataframe tbody tr th:only-of-type {\n",
       "        vertical-align: middle;\n",
       "    }\n",
       "\n",
       "    .dataframe tbody tr th {\n",
       "        vertical-align: top;\n",
       "    }\n",
       "\n",
       "    .dataframe thead th {\n",
       "        text-align: right;\n",
       "    }\n",
       "</style>\n",
       "<table border=\"1\" class=\"dataframe\">\n",
       "  <thead>\n",
       "    <tr style=\"text-align: right;\">\n",
       "      <th>income_type</th>\n",
       "      <th>безработный</th>\n",
       "      <th>пенсионер</th>\n",
       "    </tr>\n",
       "    <tr>\n",
       "      <th>dob_years</th>\n",
       "      <th></th>\n",
       "      <th></th>\n",
       "    </tr>\n",
       "  </thead>\n",
       "  <tbody>\n",
       "    <tr>\n",
       "      <th>0</th>\n",
       "      <td>NaN</td>\n",
       "      <td>17.0</td>\n",
       "    </tr>\n",
       "    <tr>\n",
       "      <th>22</th>\n",
       "      <td>NaN</td>\n",
       "      <td>1.0</td>\n",
       "    </tr>\n",
       "    <tr>\n",
       "      <th>26</th>\n",
       "      <td>NaN</td>\n",
       "      <td>2.0</td>\n",
       "    </tr>\n",
       "    <tr>\n",
       "      <th>27</th>\n",
       "      <td>NaN</td>\n",
       "      <td>3.0</td>\n",
       "    </tr>\n",
       "    <tr>\n",
       "      <th>28</th>\n",
       "      <td>NaN</td>\n",
       "      <td>1.0</td>\n",
       "    </tr>\n",
       "    <tr>\n",
       "      <th>31</th>\n",
       "      <td>1.0</td>\n",
       "      <td>NaN</td>\n",
       "    </tr>\n",
       "    <tr>\n",
       "      <th>32</th>\n",
       "      <td>NaN</td>\n",
       "      <td>3.0</td>\n",
       "    </tr>\n",
       "    <tr>\n",
       "      <th>33</th>\n",
       "      <td>NaN</td>\n",
       "      <td>2.0</td>\n",
       "    </tr>\n",
       "    <tr>\n",
       "      <th>34</th>\n",
       "      <td>NaN</td>\n",
       "      <td>3.0</td>\n",
       "    </tr>\n",
       "    <tr>\n",
       "      <th>35</th>\n",
       "      <td>NaN</td>\n",
       "      <td>1.0</td>\n",
       "    </tr>\n",
       "    <tr>\n",
       "      <th>36</th>\n",
       "      <td>NaN</td>\n",
       "      <td>3.0</td>\n",
       "    </tr>\n",
       "    <tr>\n",
       "      <th>37</th>\n",
       "      <td>NaN</td>\n",
       "      <td>5.0</td>\n",
       "    </tr>\n",
       "    <tr>\n",
       "      <th>38</th>\n",
       "      <td>NaN</td>\n",
       "      <td>8.0</td>\n",
       "    </tr>\n",
       "    <tr>\n",
       "      <th>39</th>\n",
       "      <td>NaN</td>\n",
       "      <td>4.0</td>\n",
       "    </tr>\n",
       "    <tr>\n",
       "      <th>40</th>\n",
       "      <td>NaN</td>\n",
       "      <td>7.0</td>\n",
       "    </tr>\n",
       "    <tr>\n",
       "      <th>41</th>\n",
       "      <td>NaN</td>\n",
       "      <td>6.0</td>\n",
       "    </tr>\n",
       "    <tr>\n",
       "      <th>42</th>\n",
       "      <td>NaN</td>\n",
       "      <td>9.0</td>\n",
       "    </tr>\n",
       "    <tr>\n",
       "      <th>43</th>\n",
       "      <td>NaN</td>\n",
       "      <td>9.0</td>\n",
       "    </tr>\n",
       "    <tr>\n",
       "      <th>44</th>\n",
       "      <td>NaN</td>\n",
       "      <td>10.0</td>\n",
       "    </tr>\n",
       "    <tr>\n",
       "      <th>45</th>\n",
       "      <td>1.0</td>\n",
       "      <td>10.0</td>\n",
       "    </tr>\n",
       "    <tr>\n",
       "      <th>46</th>\n",
       "      <td>NaN</td>\n",
       "      <td>13.0</td>\n",
       "    </tr>\n",
       "    <tr>\n",
       "      <th>47</th>\n",
       "      <td>NaN</td>\n",
       "      <td>13.0</td>\n",
       "    </tr>\n",
       "    <tr>\n",
       "      <th>48</th>\n",
       "      <td>NaN</td>\n",
       "      <td>20.0</td>\n",
       "    </tr>\n",
       "    <tr>\n",
       "      <th>49</th>\n",
       "      <td>NaN</td>\n",
       "      <td>30.0</td>\n",
       "    </tr>\n",
       "    <tr>\n",
       "      <th>50</th>\n",
       "      <td>NaN</td>\n",
       "      <td>61.0</td>\n",
       "    </tr>\n",
       "    <tr>\n",
       "      <th>51</th>\n",
       "      <td>NaN</td>\n",
       "      <td>73.0</td>\n",
       "    </tr>\n",
       "    <tr>\n",
       "      <th>52</th>\n",
       "      <td>NaN</td>\n",
       "      <td>95.0</td>\n",
       "    </tr>\n",
       "    <tr>\n",
       "      <th>53</th>\n",
       "      <td>NaN</td>\n",
       "      <td>105.0</td>\n",
       "    </tr>\n",
       "    <tr>\n",
       "      <th>54</th>\n",
       "      <td>NaN</td>\n",
       "      <td>145.0</td>\n",
       "    </tr>\n",
       "    <tr>\n",
       "      <th>55</th>\n",
       "      <td>NaN</td>\n",
       "      <td>162.0</td>\n",
       "    </tr>\n",
       "    <tr>\n",
       "      <th>56</th>\n",
       "      <td>NaN</td>\n",
       "      <td>184.0</td>\n",
       "    </tr>\n",
       "    <tr>\n",
       "      <th>57</th>\n",
       "      <td>NaN</td>\n",
       "      <td>212.0</td>\n",
       "    </tr>\n",
       "    <tr>\n",
       "      <th>58</th>\n",
       "      <td>NaN</td>\n",
       "      <td>208.0</td>\n",
       "    </tr>\n",
       "    <tr>\n",
       "      <th>59</th>\n",
       "      <td>NaN</td>\n",
       "      <td>254.0</td>\n",
       "    </tr>\n",
       "    <tr>\n",
       "      <th>60</th>\n",
       "      <td>NaN</td>\n",
       "      <td>243.0</td>\n",
       "    </tr>\n",
       "    <tr>\n",
       "      <th>61</th>\n",
       "      <td>NaN</td>\n",
       "      <td>214.0</td>\n",
       "    </tr>\n",
       "    <tr>\n",
       "      <th>62</th>\n",
       "      <td>NaN</td>\n",
       "      <td>235.0</td>\n",
       "    </tr>\n",
       "    <tr>\n",
       "      <th>63</th>\n",
       "      <td>NaN</td>\n",
       "      <td>192.0</td>\n",
       "    </tr>\n",
       "    <tr>\n",
       "      <th>64</th>\n",
       "      <td>NaN</td>\n",
       "      <td>179.0</td>\n",
       "    </tr>\n",
       "    <tr>\n",
       "      <th>65</th>\n",
       "      <td>NaN</td>\n",
       "      <td>136.0</td>\n",
       "    </tr>\n",
       "    <tr>\n",
       "      <th>66</th>\n",
       "      <td>NaN</td>\n",
       "      <td>139.0</td>\n",
       "    </tr>\n",
       "    <tr>\n",
       "      <th>67</th>\n",
       "      <td>NaN</td>\n",
       "      <td>132.0</td>\n",
       "    </tr>\n",
       "    <tr>\n",
       "      <th>68</th>\n",
       "      <td>NaN</td>\n",
       "      <td>80.0</td>\n",
       "    </tr>\n",
       "    <tr>\n",
       "      <th>69</th>\n",
       "      <td>NaN</td>\n",
       "      <td>74.0</td>\n",
       "    </tr>\n",
       "    <tr>\n",
       "      <th>70</th>\n",
       "      <td>NaN</td>\n",
       "      <td>54.0</td>\n",
       "    </tr>\n",
       "    <tr>\n",
       "      <th>71</th>\n",
       "      <td>NaN</td>\n",
       "      <td>48.0</td>\n",
       "    </tr>\n",
       "    <tr>\n",
       "      <th>72</th>\n",
       "      <td>NaN</td>\n",
       "      <td>28.0</td>\n",
       "    </tr>\n",
       "    <tr>\n",
       "      <th>73</th>\n",
       "      <td>NaN</td>\n",
       "      <td>6.0</td>\n",
       "    </tr>\n",
       "    <tr>\n",
       "      <th>74</th>\n",
       "      <td>NaN</td>\n",
       "      <td>4.0</td>\n",
       "    </tr>\n",
       "  </tbody>\n",
       "</table>\n",
       "</div>"
      ],
      "text/plain": [
       "income_type  безработный  пенсионер\n",
       "dob_years                          \n",
       "0                    NaN       17.0\n",
       "22                   NaN        1.0\n",
       "26                   NaN        2.0\n",
       "27                   NaN        3.0\n",
       "28                   NaN        1.0\n",
       "31                   1.0        NaN\n",
       "32                   NaN        3.0\n",
       "33                   NaN        2.0\n",
       "34                   NaN        3.0\n",
       "35                   NaN        1.0\n",
       "36                   NaN        3.0\n",
       "37                   NaN        5.0\n",
       "38                   NaN        8.0\n",
       "39                   NaN        4.0\n",
       "40                   NaN        7.0\n",
       "41                   NaN        6.0\n",
       "42                   NaN        9.0\n",
       "43                   NaN        9.0\n",
       "44                   NaN       10.0\n",
       "45                   1.0       10.0\n",
       "46                   NaN       13.0\n",
       "47                   NaN       13.0\n",
       "48                   NaN       20.0\n",
       "49                   NaN       30.0\n",
       "50                   NaN       61.0\n",
       "51                   NaN       73.0\n",
       "52                   NaN       95.0\n",
       "53                   NaN      105.0\n",
       "54                   NaN      145.0\n",
       "55                   NaN      162.0\n",
       "56                   NaN      184.0\n",
       "57                   NaN      212.0\n",
       "58                   NaN      208.0\n",
       "59                   NaN      254.0\n",
       "60                   NaN      243.0\n",
       "61                   NaN      214.0\n",
       "62                   NaN      235.0\n",
       "63                   NaN      192.0\n",
       "64                   NaN      179.0\n",
       "65                   NaN      136.0\n",
       "66                   NaN      139.0\n",
       "67                   NaN      132.0\n",
       "68                   NaN       80.0\n",
       "69                   NaN       74.0\n",
       "70                   NaN       54.0\n",
       "71                   NaN       48.0\n",
       "72                   NaN       28.0\n",
       "73                   NaN        6.0\n",
       "74                   NaN        4.0"
      ]
     },
     "metadata": {},
     "output_type": "display_data"
    },
    {
     "name": "stdout",
     "output_type": "stream",
     "text": [
      "['пенсионер' 'безработный']\n"
     ]
    }
   ],
   "source": [
    "# посмотрим какая категория граждан имеет нереалистичный стаж и какое их количество\n",
    "print('Количество нереалистичных значений стажа:',len(data.query('days_employed>20000')))\n",
    "print('Количество пенсионеров всего:',len(data.query('income_type>\"пенсионер\"')))\n",
    "tmp = data.query('days_employed>20000')\n",
    "display(tmp.pivot_table(values='days_employed',index='dob_years', columns='income_type', aggfunc='count'))\n",
    "print(data.loc[data['days_employed']>20000, 'income_type'].unique())"
   ]
  },
  {
   "attachments": {},
   "cell_type": "markdown",
   "id": "5715b170",
   "metadata": {},
   "source": [
    "Из таблицы видно, что основная доля это действительно пенсионеры и действительно в возрасте. Так как этих значений достаточно много, просто удалить их нельзя. Создадим функцию для преобразования стажа по следующей логике: если челоек начал работать в 14 лет, то вычтем это число из его возраста и умножим на число дней в году (365), если число будет меньше стажа из датафрейма, то берем его, если больше, то из датафрейма."
   ]
  },
  {
   "cell_type": "code",
   "execution_count": 335,
   "id": "862c0610",
   "metadata": {},
   "outputs": [
    {
     "data": {
      "text/html": [
       "<div>\n",
       "<style scoped>\n",
       "    .dataframe tbody tr th:only-of-type {\n",
       "        vertical-align: middle;\n",
       "    }\n",
       "\n",
       "    .dataframe tbody tr th {\n",
       "        vertical-align: top;\n",
       "    }\n",
       "\n",
       "    .dataframe thead th {\n",
       "        text-align: right;\n",
       "    }\n",
       "</style>\n",
       "<table border=\"1\" class=\"dataframe\">\n",
       "  <thead>\n",
       "    <tr style=\"text-align: right;\">\n",
       "      <th></th>\n",
       "      <th>children</th>\n",
       "      <th>days_employed</th>\n",
       "      <th>dob_years</th>\n",
       "      <th>education</th>\n",
       "      <th>education_id</th>\n",
       "      <th>family_status</th>\n",
       "      <th>family_status_id</th>\n",
       "      <th>gender</th>\n",
       "      <th>income_type</th>\n",
       "      <th>debt</th>\n",
       "      <th>total_income</th>\n",
       "      <th>purpose</th>\n",
       "    </tr>\n",
       "  </thead>\n",
       "  <tbody>\n",
       "    <tr>\n",
       "      <th>2557</th>\n",
       "      <td>0</td>\n",
       "      <td>21900.0</td>\n",
       "      <td>74</td>\n",
       "      <td>среднее</td>\n",
       "      <td>1</td>\n",
       "      <td>женат / замужем</td>\n",
       "      <td>0</td>\n",
       "      <td>F</td>\n",
       "      <td>пенсионер</td>\n",
       "      <td>0</td>\n",
       "      <td>42927.300898</td>\n",
       "      <td>автомобили</td>\n",
       "    </tr>\n",
       "    <tr>\n",
       "      <th>3460</th>\n",
       "      <td>0</td>\n",
       "      <td>21900.0</td>\n",
       "      <td>74</td>\n",
       "      <td>среднее</td>\n",
       "      <td>1</td>\n",
       "      <td>женат / замужем</td>\n",
       "      <td>0</td>\n",
       "      <td>M</td>\n",
       "      <td>пенсионер</td>\n",
       "      <td>0</td>\n",
       "      <td>54754.745517</td>\n",
       "      <td>операции со своей недвижимостью</td>\n",
       "    </tr>\n",
       "    <tr>\n",
       "      <th>19642</th>\n",
       "      <td>0</td>\n",
       "      <td>21900.0</td>\n",
       "      <td>74</td>\n",
       "      <td>среднее</td>\n",
       "      <td>1</td>\n",
       "      <td>вдовец / вдова</td>\n",
       "      <td>2</td>\n",
       "      <td>F</td>\n",
       "      <td>пенсионер</td>\n",
       "      <td>0</td>\n",
       "      <td>45089.546419</td>\n",
       "      <td>приобретение автомобиля</td>\n",
       "    </tr>\n",
       "    <tr>\n",
       "      <th>4895</th>\n",
       "      <td>0</td>\n",
       "      <td>21900.0</td>\n",
       "      <td>74</td>\n",
       "      <td>высшее</td>\n",
       "      <td>0</td>\n",
       "      <td>женат / замужем</td>\n",
       "      <td>0</td>\n",
       "      <td>F</td>\n",
       "      <td>пенсионер</td>\n",
       "      <td>0</td>\n",
       "      <td>134935.354225</td>\n",
       "      <td>покупка своего жилья</td>\n",
       "    </tr>\n",
       "    <tr>\n",
       "      <th>6406</th>\n",
       "      <td>0</td>\n",
       "      <td>21535.0</td>\n",
       "      <td>73</td>\n",
       "      <td>среднее</td>\n",
       "      <td>1</td>\n",
       "      <td>женат / замужем</td>\n",
       "      <td>0</td>\n",
       "      <td>F</td>\n",
       "      <td>пенсионер</td>\n",
       "      <td>0</td>\n",
       "      <td>119190.487878</td>\n",
       "      <td>покупка жилья</td>\n",
       "    </tr>\n",
       "    <tr>\n",
       "      <th>...</th>\n",
       "      <td>...</td>\n",
       "      <td>...</td>\n",
       "      <td>...</td>\n",
       "      <td>...</td>\n",
       "      <td>...</td>\n",
       "      <td>...</td>\n",
       "      <td>...</td>\n",
       "      <td>...</td>\n",
       "      <td>...</td>\n",
       "      <td>...</td>\n",
       "      <td>...</td>\n",
       "      <td>...</td>\n",
       "    </tr>\n",
       "    <tr>\n",
       "      <th>3384</th>\n",
       "      <td>0</td>\n",
       "      <td>20075.0</td>\n",
       "      <td>69</td>\n",
       "      <td>среднее</td>\n",
       "      <td>1</td>\n",
       "      <td>вдовец / вдова</td>\n",
       "      <td>2</td>\n",
       "      <td>F</td>\n",
       "      <td>пенсионер</td>\n",
       "      <td>0</td>\n",
       "      <td>581199.587579</td>\n",
       "      <td>сделка с подержанным автомобилем</td>\n",
       "    </tr>\n",
       "    <tr>\n",
       "      <th>3503</th>\n",
       "      <td>0</td>\n",
       "      <td>20075.0</td>\n",
       "      <td>69</td>\n",
       "      <td>среднее</td>\n",
       "      <td>1</td>\n",
       "      <td>Не женат / не замужем</td>\n",
       "      <td>4</td>\n",
       "      <td>F</td>\n",
       "      <td>пенсионер</td>\n",
       "      <td>0</td>\n",
       "      <td>99080.507249</td>\n",
       "      <td>автомобиль</td>\n",
       "    </tr>\n",
       "    <tr>\n",
       "      <th>11060</th>\n",
       "      <td>0</td>\n",
       "      <td>20075.0</td>\n",
       "      <td>69</td>\n",
       "      <td>начальное</td>\n",
       "      <td>3</td>\n",
       "      <td>женат / замужем</td>\n",
       "      <td>0</td>\n",
       "      <td>F</td>\n",
       "      <td>пенсионер</td>\n",
       "      <td>0</td>\n",
       "      <td>98095.380008</td>\n",
       "      <td>получение образования</td>\n",
       "    </tr>\n",
       "    <tr>\n",
       "      <th>10923</th>\n",
       "      <td>0</td>\n",
       "      <td>20075.0</td>\n",
       "      <td>69</td>\n",
       "      <td>среднее</td>\n",
       "      <td>1</td>\n",
       "      <td>гражданский брак</td>\n",
       "      <td>1</td>\n",
       "      <td>F</td>\n",
       "      <td>пенсионер</td>\n",
       "      <td>0</td>\n",
       "      <td>308501.340027</td>\n",
       "      <td>свадьба</td>\n",
       "    </tr>\n",
       "    <tr>\n",
       "      <th>9457</th>\n",
       "      <td>0</td>\n",
       "      <td>20075.0</td>\n",
       "      <td>69</td>\n",
       "      <td>Среднее</td>\n",
       "      <td>1</td>\n",
       "      <td>вдовец / вдова</td>\n",
       "      <td>2</td>\n",
       "      <td>F</td>\n",
       "      <td>пенсионер</td>\n",
       "      <td>0</td>\n",
       "      <td>81327.801597</td>\n",
       "      <td>на покупку подержанного автомобиля</td>\n",
       "    </tr>\n",
       "  </tbody>\n",
       "</table>\n",
       "<p>214 rows × 12 columns</p>\n",
       "</div>"
      ],
      "text/plain": [
       "       children  days_employed  dob_years  education  education_id   \n",
       "2557          0        21900.0         74    среднее             1  \\\n",
       "3460          0        21900.0         74    среднее             1   \n",
       "19642         0        21900.0         74    среднее             1   \n",
       "4895          0        21900.0         74     высшее             0   \n",
       "6406          0        21535.0         73    среднее             1   \n",
       "...         ...            ...        ...        ...           ...   \n",
       "3384          0        20075.0         69    среднее             1   \n",
       "3503          0        20075.0         69    среднее             1   \n",
       "11060         0        20075.0         69  начальное             3   \n",
       "10923         0        20075.0         69    среднее             1   \n",
       "9457          0        20075.0         69    Среднее             1   \n",
       "\n",
       "               family_status  family_status_id gender income_type  debt   \n",
       "2557         женат / замужем                 0      F   пенсионер     0  \\\n",
       "3460         женат / замужем                 0      M   пенсионер     0   \n",
       "19642         вдовец / вдова                 2      F   пенсионер     0   \n",
       "4895         женат / замужем                 0      F   пенсионер     0   \n",
       "6406         женат / замужем                 0      F   пенсионер     0   \n",
       "...                      ...               ...    ...         ...   ...   \n",
       "3384          вдовец / вдова                 2      F   пенсионер     0   \n",
       "3503   Не женат / не замужем                 4      F   пенсионер     0   \n",
       "11060        женат / замужем                 0      F   пенсионер     0   \n",
       "10923       гражданский брак                 1      F   пенсионер     0   \n",
       "9457          вдовец / вдова                 2      F   пенсионер     0   \n",
       "\n",
       "        total_income                             purpose  \n",
       "2557    42927.300898                          автомобили  \n",
       "3460    54754.745517     операции со своей недвижимостью  \n",
       "19642   45089.546419             приобретение автомобиля  \n",
       "4895   134935.354225                покупка своего жилья  \n",
       "6406   119190.487878                       покупка жилья  \n",
       "...              ...                                 ...  \n",
       "3384   581199.587579    сделка с подержанным автомобилем  \n",
       "3503    99080.507249                          автомобиль  \n",
       "11060   98095.380008               получение образования  \n",
       "10923  308501.340027                             свадьба  \n",
       "9457    81327.801597  на покупку подержанного автомобиля  \n",
       "\n",
       "[214 rows x 12 columns]"
      ]
     },
     "execution_count": 335,
     "metadata": {},
     "output_type": "execute_result"
    }
   ],
   "source": [
    "# заменим все значения нереалистичного стажа для этих граждан пропорционально их значению возраста\n",
    "def employed(data):\n",
    "    '''функция возвращает количество дней стажа в зависимости от логического условия для класса граждан пенсионеры которые отработали меньше 20000 дней (55лет)'''\n",
    "    if data['income_type']=='пенсионер' and (data['dob_years'])-14*365>data['days_employed'] or data['days_employed']<20000:\n",
    "        return data['days_employed']\n",
    "    elif data['income_type']=='пенсионер' and (data['dob_years']-14)*365<data['days_employed']:\n",
    "        return (data['dob_years']-14)*365\n",
    "    else: \n",
    "        data['days_employed']\n",
    "\n",
    "data['days_employed'] = data.apply(employed, axis=1) # замена стажа работы пенсионеров на реалистичный\n",
    "data.query('days_employed>20000').sort_values(by='days_employed', ascending=False) # выведем таблицу по убыванию, для оценки результата"
   ]
  },
  {
   "attachments": {},
   "cell_type": "markdown",
   "id": "abae2359",
   "metadata": {},
   "source": [
    "Столбик dob_years (возраст) имеет нулевое значение, было бы проще заполнить его медианным значением, но сначала посмотрим к каким категориям граждан относятся нулевые значения."
   ]
  },
  {
   "cell_type": "code",
   "execution_count": 336,
   "id": "0fcc28da",
   "metadata": {},
   "outputs": [
    {
     "data": {
      "text/plain": [
       "income_type\n",
       "сотрудник      55\n",
       "компаньон      20\n",
       "пенсионер      20\n",
       "госслужащий     6\n",
       "Name: count, dtype: int64"
      ]
     },
     "execution_count": 336,
     "metadata": {},
     "output_type": "execute_result"
    }
   ],
   "source": [
    "data.query('dob_years==0').value_counts('income_type') # оценим сколько значений имеют нулевой возраст по категории граждан"
   ]
  },
  {
   "attachments": {},
   "cell_type": "markdown",
   "id": "d2843d2f",
   "metadata": {},
   "source": [
    "Как видно из таблицы, нулевое значение возраста имеют совершенно разные типы граждан, разделим их еще более глубже, по полу"
   ]
  },
  {
   "cell_type": "code",
   "execution_count": 337,
   "id": "5f94bb61",
   "metadata": {},
   "outputs": [
    {
     "name": "stderr",
     "output_type": "stream",
     "text": [
      "C:\\Users\\user\\AppData\\Roaming\\Python\\Python310\\site-packages\\numpy\\core\\fromnumeric.py:3464: RuntimeWarning: Mean of empty slice.\n",
      "  return _methods._mean(a, axis=axis, dtype=dtype,\n",
      "C:\\Users\\user\\AppData\\Roaming\\Python\\Python310\\site-packages\\numpy\\core\\_methods.py:192: RuntimeWarning: invalid value encountered in scalar divide\n",
      "  ret = ret.dtype.type(ret / rcount)\n"
     ]
    },
    {
     "data": {
      "image/png": "[encoded data removed]",
      "text/plain": [
       "<Figure size 640x480 with 1 Axes>"
      ]
     },
     "metadata": {},
     "output_type": "display_data"
    }
   ],
   "source": [
    "tmp_age = sns.barplot(x=data['dob_years'], y=data['income_type'], hue=data['gender'], estimator=np.median) # создаем график на котором отобразим медианные возраста по категориям граждан и полу\n",
    "plt.xlabel('Возраст') #\n",
    "plt.ylabel('Тип занятости')\n",
    "plt.title('Медианный возраст для представителей каждой профессии и пола')\n",
    "legend_labels, _ = tmp_age.get_legend_handles_labels() # получаем метки легенды в переменную и хендлеры в неиспользуемую переменную\n",
    "plt.legend(legend_labels, ['женщины', 'мужчины', 'NA'], title='Пол')\n",
    "plt.show()"
   ]
  },
  {
   "attachments": {},
   "cell_type": "markdown",
   "id": "fa4e2ca6",
   "metadata": {},
   "source": [
    "Из графика видно, что категории отличаются по возрасту но внутри по полу имеются минимальные отличия. Кроме категорий предприниматель и безработный. Проверим их более точно."
   ]
  },
  {
   "cell_type": "code",
   "execution_count": 338,
   "id": "ba2deec2",
   "metadata": {},
   "outputs": [
    {
     "data": {
      "text/plain": [
       "income_type\n",
       "сотрудник          4315\n",
       "компаньон          1887\n",
       "пенсионер           698\n",
       "госслужащий         385\n",
       "безработный           1\n",
       "предприниматель       1\n",
       "студент               1\n",
       "Name: count, dtype: int64"
      ]
     },
     "execution_count": 338,
     "metadata": {},
     "output_type": "execute_result"
    }
   ],
   "source": [
    "data.query('gender==\"M\"').value_counts('income_type') # количество значений для мужчин"
   ]
  },
  {
   "cell_type": "code",
   "execution_count": 339,
   "id": "a396c202",
   "metadata": {},
   "outputs": [
    {
     "data": {
      "text/plain": [
       "income_type\n",
       "сотрудник          6804\n",
       "компаньон          3197\n",
       "пенсионер          3158\n",
       "госслужащий        1074\n",
       "безработный           1\n",
       "в декрете             1\n",
       "предприниматель       1\n",
       "Name: count, dtype: int64"
      ]
     },
     "execution_count": 339,
     "metadata": {},
     "output_type": "execute_result"
    }
   ],
   "source": [
    "data.query('gender==\"F\"').value_counts('income_type') # количество значений для женщин"
   ]
  },
  {
   "cell_type": "code",
   "execution_count": 340,
   "id": "2df5c4a0",
   "metadata": {},
   "outputs": [
    {
     "data": {
      "text/plain": [
       "income_type\n",
       "сотрудник          11119\n",
       "компаньон           5085\n",
       "пенсионер           3856\n",
       "госслужащий         1459\n",
       "безработный            2\n",
       "предприниматель        2\n",
       "студент                1\n",
       "в декрете              1\n",
       "Name: count, dtype: int64"
      ]
     },
     "execution_count": 340,
     "metadata": {},
     "output_type": "execute_result"
    }
   ],
   "source": [
    "data['income_type'].value_counts() # общее количество значений по категориям"
   ]
  },
  {
   "attachments": {},
   "cell_type": "markdown",
   "id": "118e94f3",
   "metadata": {},
   "source": [
    "Из данных видно, что категория и предприниматель имеют всего пару человек, потому проще их не брать в расчет медианного значения. При заполнении нулевых значений будет опираться на более насыщенные категории.\n",
    "\n",
    "Создадим датафрейм для создания медианных значений без нулевых."
   ]
  },
  {
   "cell_type": "code",
   "execution_count": 341,
   "id": "c29d91b4",
   "metadata": {},
   "outputs": [],
   "source": [
    "data_age_nonull = data.query('dob_years!=0').dropna(axis=0) # срез датафрейма без нулевых значений и пропущенных"
   ]
  },
  {
   "attachments": {},
   "cell_type": "markdown",
   "id": "70d712be",
   "metadata": {},
   "source": [
    "Вычислим медианный возраст для каждой категории"
   ]
  },
  {
   "cell_type": "code",
   "execution_count": 342,
   "id": "4a964e4d",
   "metadata": {},
   "outputs": [
    {
     "data": {
      "text/plain": [
       "gender  income_type    \n",
       "F       в декрете          39.0\n",
       "        госслужащий        42.0\n",
       "        компаньон          40.0\n",
       "        пенсионер          60.0\n",
       "        предприниматель    27.0\n",
       "        сотрудник          40.0\n",
       "M       госслужащий        37.0\n",
       "        компаньон          38.0\n",
       "        пенсионер          60.0\n",
       "        сотрудник          38.0\n",
       "        студент            22.0\n",
       "XNA     компаньон          24.0\n",
       "Name: dob_years, dtype: float64"
      ]
     },
     "execution_count": 342,
     "metadata": {},
     "output_type": "execute_result"
    }
   ],
   "source": [
    "data_gender_median_age = data_age_nonull.groupby(['gender','income_type'])['dob_years'].median() # сгруппируем таблицу по полу и категорям со значениями медианного возраста\n",
    "data_gender_median_age"
   ]
  },
  {
   "attachments": {},
   "cell_type": "markdown",
   "id": "53c1c9f9",
   "metadata": {},
   "source": [
    "Создадим новый столбец age с новым возрастом для тех у кого ноль согласно их категории и значением из dob_years у кого он был"
   ]
  },
  {
   "cell_type": "code",
   "execution_count": 343,
   "id": "3983e3ff",
   "metadata": {},
   "outputs": [
    {
     "data": {
      "text/html": [
       "<div>\n",
       "<style scoped>\n",
       "    .dataframe tbody tr th:only-of-type {\n",
       "        vertical-align: middle;\n",
       "    }\n",
       "\n",
       "    .dataframe tbody tr th {\n",
       "        vertical-align: top;\n",
       "    }\n",
       "\n",
       "    .dataframe thead th {\n",
       "        text-align: right;\n",
       "    }\n",
       "</style>\n",
       "<table border=\"1\" class=\"dataframe\">\n",
       "  <thead>\n",
       "    <tr style=\"text-align: right;\">\n",
       "      <th></th>\n",
       "      <th>children</th>\n",
       "      <th>days_employed</th>\n",
       "      <th>education</th>\n",
       "      <th>education_id</th>\n",
       "      <th>family_status</th>\n",
       "      <th>family_status_id</th>\n",
       "      <th>gender</th>\n",
       "      <th>income_type</th>\n",
       "      <th>debt</th>\n",
       "      <th>total_income</th>\n",
       "      <th>purpose</th>\n",
       "      <th>age</th>\n",
       "    </tr>\n",
       "  </thead>\n",
       "  <tbody>\n",
       "    <tr>\n",
       "      <th>0</th>\n",
       "      <td>1</td>\n",
       "      <td>8437.0</td>\n",
       "      <td>высшее</td>\n",
       "      <td>0</td>\n",
       "      <td>женат / замужем</td>\n",
       "      <td>0</td>\n",
       "      <td>F</td>\n",
       "      <td>сотрудник</td>\n",
       "      <td>0</td>\n",
       "      <td>253875.639453</td>\n",
       "      <td>покупка жилья</td>\n",
       "      <td>42</td>\n",
       "    </tr>\n",
       "    <tr>\n",
       "      <th>1</th>\n",
       "      <td>1</td>\n",
       "      <td>4024.0</td>\n",
       "      <td>среднее</td>\n",
       "      <td>1</td>\n",
       "      <td>женат / замужем</td>\n",
       "      <td>0</td>\n",
       "      <td>F</td>\n",
       "      <td>сотрудник</td>\n",
       "      <td>0</td>\n",
       "      <td>112080.014102</td>\n",
       "      <td>приобретение автомобиля</td>\n",
       "      <td>36</td>\n",
       "    </tr>\n",
       "    <tr>\n",
       "      <th>2</th>\n",
       "      <td>0</td>\n",
       "      <td>5623.0</td>\n",
       "      <td>Среднее</td>\n",
       "      <td>1</td>\n",
       "      <td>женат / замужем</td>\n",
       "      <td>0</td>\n",
       "      <td>M</td>\n",
       "      <td>сотрудник</td>\n",
       "      <td>0</td>\n",
       "      <td>145885.952297</td>\n",
       "      <td>покупка жилья</td>\n",
       "      <td>33</td>\n",
       "    </tr>\n",
       "    <tr>\n",
       "      <th>3</th>\n",
       "      <td>3</td>\n",
       "      <td>4124.0</td>\n",
       "      <td>среднее</td>\n",
       "      <td>1</td>\n",
       "      <td>женат / замужем</td>\n",
       "      <td>0</td>\n",
       "      <td>M</td>\n",
       "      <td>сотрудник</td>\n",
       "      <td>0</td>\n",
       "      <td>267628.550329</td>\n",
       "      <td>дополнительное образование</td>\n",
       "      <td>32</td>\n",
       "    </tr>\n",
       "    <tr>\n",
       "      <th>4</th>\n",
       "      <td>0</td>\n",
       "      <td>14235.0</td>\n",
       "      <td>среднее</td>\n",
       "      <td>1</td>\n",
       "      <td>гражданский брак</td>\n",
       "      <td>1</td>\n",
       "      <td>F</td>\n",
       "      <td>пенсионер</td>\n",
       "      <td>0</td>\n",
       "      <td>158616.077870</td>\n",
       "      <td>сыграть свадьбу</td>\n",
       "      <td>53</td>\n",
       "    </tr>\n",
       "  </tbody>\n",
       "</table>\n",
       "</div>"
      ],
      "text/plain": [
       "   children  days_employed education  education_id     family_status   \n",
       "0         1         8437.0    высшее             0   женат / замужем  \\\n",
       "1         1         4024.0   среднее             1   женат / замужем   \n",
       "2         0         5623.0   Среднее             1   женат / замужем   \n",
       "3         3         4124.0   среднее             1   женат / замужем   \n",
       "4         0        14235.0   среднее             1  гражданский брак   \n",
       "\n",
       "   family_status_id gender income_type  debt   total_income   \n",
       "0                 0      F   сотрудник     0  253875.639453  \\\n",
       "1                 0      F   сотрудник     0  112080.014102   \n",
       "2                 0      M   сотрудник     0  145885.952297   \n",
       "3                 0      M   сотрудник     0  267628.550329   \n",
       "4                 1      F   пенсионер     0  158616.077870   \n",
       "\n",
       "                      purpose  age  \n",
       "0               покупка жилья   42  \n",
       "1     приобретение автомобиля   36  \n",
       "2               покупка жилья   33  \n",
       "3  дополнительное образование   32  \n",
       "4             сыграть свадьбу   53  "
      ]
     },
     "execution_count": 343,
     "metadata": {},
     "output_type": "execute_result"
    }
   ],
   "source": [
    "def age(row, age_dict):\n",
    "    '''функция принимает строку из исходного датафрейма и словарь с новыми значениями медиан возраста.\n",
    "    С помощью логического оператора отбирается из исходного датафрейма строка с нулевым значеним, затем из словаря берется по двум ключам значение медианы для необходимой категории и пола и\n",
    "    возвращается в качестве ответа. Если значение уже есть в столбце dob_years, то вернется это значение'''\n",
    "    if row['dob_years']==0:\n",
    "        gender = row['gender']\n",
    "        income_type = row['income_type']\n",
    "        return age_dict[gender][income_type]\n",
    "    else:\n",
    "        return row['dob_years']\n",
    "data['age'] = data.apply(lambda x: age(x, data_gender_median_age), axis=1).astype(int) # заменим все нулевые значения на медианные по категориям и запишем в новый столбик age\n",
    "data = data.drop('dob_years', axis=1) # удалим столбец dob_years\n",
    "data.head()\n"
   ]
  },
  {
   "attachments": {},
   "cell_type": "markdown",
   "id": "81fa854b",
   "metadata": {},
   "source": [
    "Проверим что за значение XNA стоит в столбце gender и много ли их"
   ]
  },
  {
   "cell_type": "code",
   "execution_count": 344,
   "id": "2957141e",
   "metadata": {},
   "outputs": [
    {
     "data": {
      "text/html": [
       "<div>\n",
       "<style scoped>\n",
       "    .dataframe tbody tr th:only-of-type {\n",
       "        vertical-align: middle;\n",
       "    }\n",
       "\n",
       "    .dataframe tbody tr th {\n",
       "        vertical-align: top;\n",
       "    }\n",
       "\n",
       "    .dataframe thead th {\n",
       "        text-align: right;\n",
       "    }\n",
       "</style>\n",
       "<table border=\"1\" class=\"dataframe\">\n",
       "  <thead>\n",
       "    <tr style=\"text-align: right;\">\n",
       "      <th></th>\n",
       "      <th>children</th>\n",
       "      <th>days_employed</th>\n",
       "      <th>education</th>\n",
       "      <th>education_id</th>\n",
       "      <th>family_status</th>\n",
       "      <th>family_status_id</th>\n",
       "      <th>gender</th>\n",
       "      <th>income_type</th>\n",
       "      <th>debt</th>\n",
       "      <th>total_income</th>\n",
       "      <th>purpose</th>\n",
       "      <th>age</th>\n",
       "    </tr>\n",
       "  </thead>\n",
       "  <tbody>\n",
       "    <tr>\n",
       "      <th>10701</th>\n",
       "      <td>0</td>\n",
       "      <td>2358.0</td>\n",
       "      <td>неоконченное высшее</td>\n",
       "      <td>2</td>\n",
       "      <td>гражданский брак</td>\n",
       "      <td>1</td>\n",
       "      <td>XNA</td>\n",
       "      <td>компаньон</td>\n",
       "      <td>0</td>\n",
       "      <td>203905.157261</td>\n",
       "      <td>покупка недвижимости</td>\n",
       "      <td>24</td>\n",
       "    </tr>\n",
       "  </tbody>\n",
       "</table>\n",
       "</div>"
      ],
      "text/plain": [
       "       children  days_employed            education  education_id   \n",
       "10701         0         2358.0  неоконченное высшее             2  \\\n",
       "\n",
       "          family_status  family_status_id gender income_type  debt   \n",
       "10701  гражданский брак                 1    XNA   компаньон     0  \\\n",
       "\n",
       "        total_income               purpose  age  \n",
       "10701  203905.157261  покупка недвижимости   24  "
      ]
     },
     "execution_count": 344,
     "metadata": {},
     "output_type": "execute_result"
    }
   ],
   "source": [
    "data.query('gender==\"XNA\"') # проверим количество значений и что оно из себя предствавляет"
   ]
  },
  {
   "attachments": {},
   "cell_type": "markdown",
   "id": "a2022e41",
   "metadata": {},
   "source": [
    "так как значение всего одно и логически понять пол невозможно, проше удалить эту строку"
   ]
  },
  {
   "cell_type": "code",
   "execution_count": 345,
   "id": "4617a5a6",
   "metadata": {},
   "outputs": [],
   "source": [
    "data.drop(data.loc[data['gender']=='XNA'].index, inplace=True) # удаление строки со значеним пола XNA"
   ]
  },
  {
   "attachments": {},
   "cell_type": "markdown",
   "id": "977b1916",
   "metadata": {},
   "source": [
    "Проверим на отрицательные значения столбик total_income на отрицательные значения, так же изменим тип на целочисленный. Заменим пустные значения на медианный доход в зависимости от income_type."
   ]
  },
  {
   "cell_type": "code",
   "execution_count": 346,
   "id": "cf765762",
   "metadata": {},
   "outputs": [
    {
     "data": {
      "image/png": "[encoded data removed]",
      "text/plain": [
       "<Figure size 640x480 with 1 Axes>"
      ]
     },
     "metadata": {},
     "output_type": "display_data"
    }
   ],
   "source": [
    "tmp_income = sns.barplot(x=data['total_income'], y=data['income_type'], hue=data['gender'])\n",
    "plt.xlabel('Тип занятости')\n",
    "plt.ylabel(\"Ежемесячный доход\")\n",
    "plt.title('Медианный ежемесячный доход для представителей каждой профессии и пола')\n",
    "legend_labels, _ = tmp_income.get_legend_handles_labels()\n",
    "tmp_income.legend(legend_labels, ['женщины', 'мужчины'], title='Пол')\n",
    "plt.show()"
   ]
  },
  {
   "attachments": {},
   "cell_type": "markdown",
   "id": "8b1b87f2",
   "metadata": {},
   "source": [
    "Вновь видно, как и с возрастом ситуация подобна. Имеются небольшие отличия по уровню дохода мужчин и женщин. Так же категории предпренимателей так же выбивается из общей картины."
   ]
  },
  {
   "cell_type": "code",
   "execution_count": 347,
   "id": "ed2da897",
   "metadata": {},
   "outputs": [
    {
     "data": {
      "text/plain": [
       "0"
      ]
     },
     "execution_count": 347,
     "metadata": {},
     "output_type": "execute_result"
    }
   ],
   "source": [
    "# проверим наличие отрицательных значений\n",
    "len(data.query('total_income<0'))"
   ]
  },
  {
   "cell_type": "code",
   "execution_count": 348,
   "id": "495dbf5a",
   "metadata": {},
   "outputs": [
    {
     "data": {
      "text/plain": [
       "array(['пенсионер', 'госслужащий', 'компаньон', 'сотрудник',\n",
       "       'предприниматель'], dtype=object)"
      ]
     },
     "execution_count": 348,
     "metadata": {},
     "output_type": "execute_result"
    }
   ],
   "source": [
    "# посмотрим какие представители пропущенны в столбце total_income\n",
    "data[data['total_income'].isna()]['income_type'].unique()"
   ]
  },
  {
   "cell_type": "code",
   "execution_count": 349,
   "id": "cee2178a",
   "metadata": {},
   "outputs": [],
   "source": [
    "# Методом fillna + groupby + transform + median заполним пропуски в стобце total_income медианными значениями дохода для каждого пола и типа занятости.\n",
    "data['total_income'] = data['total_income'].fillna(data.groupby(['gender', 'income_type'])['total_income'].transform('median'))"
   ]
  },
  {
   "attachments": {},
   "cell_type": "markdown",
   "id": "f06a7832",
   "metadata": {},
   "source": [
    "Из всех значений, проблема может лишь возникнуть с категорией \"предприниматель\", так как к этой категории присутсвует лишь по одному представителю каждого пола, и как следствие, у нас может не найтись для него нужного значения."
   ]
  },
  {
   "cell_type": "code",
   "execution_count": 350,
   "id": "3190306a",
   "metadata": {},
   "outputs": [
    {
     "data": {
      "text/html": [
       "<div>\n",
       "<style scoped>\n",
       "    .dataframe tbody tr th:only-of-type {\n",
       "        vertical-align: middle;\n",
       "    }\n",
       "\n",
       "    .dataframe tbody tr th {\n",
       "        vertical-align: top;\n",
       "    }\n",
       "\n",
       "    .dataframe thead th {\n",
       "        text-align: right;\n",
       "    }\n",
       "</style>\n",
       "<table border=\"1\" class=\"dataframe\">\n",
       "  <thead>\n",
       "    <tr style=\"text-align: right;\">\n",
       "      <th></th>\n",
       "      <th>children</th>\n",
       "      <th>days_employed</th>\n",
       "      <th>education</th>\n",
       "      <th>education_id</th>\n",
       "      <th>family_status</th>\n",
       "      <th>family_status_id</th>\n",
       "      <th>gender</th>\n",
       "      <th>income_type</th>\n",
       "      <th>debt</th>\n",
       "      <th>total_income</th>\n",
       "      <th>purpose</th>\n",
       "      <th>age</th>\n",
       "    </tr>\n",
       "  </thead>\n",
       "  <tbody>\n",
       "    <tr>\n",
       "      <th>5936</th>\n",
       "      <td>0</td>\n",
       "      <td>1203.0</td>\n",
       "      <td>высшее</td>\n",
       "      <td>0</td>\n",
       "      <td>женат / замужем</td>\n",
       "      <td>0</td>\n",
       "      <td>M</td>\n",
       "      <td>предприниматель</td>\n",
       "      <td>0</td>\n",
       "      <td>NaN</td>\n",
       "      <td>покупка жилой недвижимости</td>\n",
       "      <td>58</td>\n",
       "    </tr>\n",
       "  </tbody>\n",
       "</table>\n",
       "</div>"
      ],
      "text/plain": [
       "      children  days_employed education  education_id    family_status   \n",
       "5936         0         1203.0    высшее             0  женат / замужем  \\\n",
       "\n",
       "      family_status_id gender      income_type  debt  total_income   \n",
       "5936                 0      M  предприниматель     0           NaN  \\\n",
       "\n",
       "                         purpose  age  \n",
       "5936  покупка жилой недвижимости   58  "
      ]
     },
     "execution_count": 350,
     "metadata": {},
     "output_type": "execute_result"
    }
   ],
   "source": [
    "data[data['total_income'].isna()] # выведем оставшиеся незаполненве значения"
   ]
  },
  {
   "cell_type": "code",
   "execution_count": 351,
   "id": "d69a6311",
   "metadata": {},
   "outputs": [
    {
     "data": {
      "text/html": [
       "<div>\n",
       "<style scoped>\n",
       "    .dataframe tbody tr th:only-of-type {\n",
       "        vertical-align: middle;\n",
       "    }\n",
       "\n",
       "    .dataframe tbody tr th {\n",
       "        vertical-align: top;\n",
       "    }\n",
       "\n",
       "    .dataframe thead th {\n",
       "        text-align: right;\n",
       "    }\n",
       "</style>\n",
       "<table border=\"1\" class=\"dataframe\">\n",
       "  <thead>\n",
       "    <tr style=\"text-align: right;\">\n",
       "      <th></th>\n",
       "      <th>children</th>\n",
       "      <th>days_employed</th>\n",
       "      <th>education</th>\n",
       "      <th>education_id</th>\n",
       "      <th>family_status</th>\n",
       "      <th>family_status_id</th>\n",
       "      <th>gender</th>\n",
       "      <th>income_type</th>\n",
       "      <th>debt</th>\n",
       "      <th>total_income</th>\n",
       "      <th>purpose</th>\n",
       "      <th>age</th>\n",
       "    </tr>\n",
       "  </thead>\n",
       "  <tbody>\n",
       "    <tr>\n",
       "      <th>5936</th>\n",
       "      <td>0</td>\n",
       "      <td>1203.0</td>\n",
       "      <td>высшее</td>\n",
       "      <td>0</td>\n",
       "      <td>женат / замужем</td>\n",
       "      <td>0</td>\n",
       "      <td>M</td>\n",
       "      <td>предприниматель</td>\n",
       "      <td>0</td>\n",
       "      <td>NaN</td>\n",
       "      <td>покупка жилой недвижимости</td>\n",
       "      <td>58</td>\n",
       "    </tr>\n",
       "    <tr>\n",
       "      <th>18697</th>\n",
       "      <td>0</td>\n",
       "      <td>520.0</td>\n",
       "      <td>высшее</td>\n",
       "      <td>0</td>\n",
       "      <td>гражданский брак</td>\n",
       "      <td>1</td>\n",
       "      <td>F</td>\n",
       "      <td>предприниматель</td>\n",
       "      <td>0</td>\n",
       "      <td>499163.144947</td>\n",
       "      <td>на проведение свадьбы</td>\n",
       "      <td>27</td>\n",
       "    </tr>\n",
       "  </tbody>\n",
       "</table>\n",
       "</div>"
      ],
      "text/plain": [
       "       children  days_employed education  education_id     family_status   \n",
       "5936          0         1203.0    высшее             0   женат / замужем  \\\n",
       "18697         0          520.0    высшее             0  гражданский брак   \n",
       "\n",
       "       family_status_id gender      income_type  debt   total_income   \n",
       "5936                  0      M  предприниматель     0            NaN  \\\n",
       "18697                 1      F  предприниматель     0  499163.144947   \n",
       "\n",
       "                          purpose  age  \n",
       "5936   покупка жилой недвижимости   58  \n",
       "18697       на проведение свадьбы   27  "
      ]
     },
     "execution_count": 351,
     "metadata": {},
     "output_type": "execute_result"
    }
   ],
   "source": [
    "data[data['income_type']=='предприниматель']"
   ]
  },
  {
   "attachments": {},
   "cell_type": "markdown",
   "id": "58b3148d",
   "metadata": {},
   "source": [
    "как и ожидалось, предприниматель мужчина оказался не заполнен. Заполним его доход тем же числом, что и предприниматель женщины."
   ]
  },
  {
   "cell_type": "code",
   "execution_count": 352,
   "id": "58404cf4",
   "metadata": {},
   "outputs": [],
   "source": [
    "data.loc[5936, 'total_income']=data.loc[18697, 'total_income']"
   ]
  },
  {
   "cell_type": "code",
   "execution_count": 353,
   "id": "e355f1c5",
   "metadata": {},
   "outputs": [
    {
     "data": {
      "text/html": [
       "<div>\n",
       "<style scoped>\n",
       "    .dataframe tbody tr th:only-of-type {\n",
       "        vertical-align: middle;\n",
       "    }\n",
       "\n",
       "    .dataframe tbody tr th {\n",
       "        vertical-align: top;\n",
       "    }\n",
       "\n",
       "    .dataframe thead th {\n",
       "        text-align: right;\n",
       "    }\n",
       "</style>\n",
       "<table border=\"1\" class=\"dataframe\">\n",
       "  <thead>\n",
       "    <tr style=\"text-align: right;\">\n",
       "      <th></th>\n",
       "      <th>children</th>\n",
       "      <th>days_employed</th>\n",
       "      <th>education</th>\n",
       "      <th>education_id</th>\n",
       "      <th>family_status</th>\n",
       "      <th>family_status_id</th>\n",
       "      <th>gender</th>\n",
       "      <th>income_type</th>\n",
       "      <th>debt</th>\n",
       "      <th>total_income</th>\n",
       "      <th>purpose</th>\n",
       "      <th>age</th>\n",
       "    </tr>\n",
       "  </thead>\n",
       "  <tbody>\n",
       "    <tr>\n",
       "      <th>5936</th>\n",
       "      <td>0</td>\n",
       "      <td>1203.0</td>\n",
       "      <td>высшее</td>\n",
       "      <td>0</td>\n",
       "      <td>женат / замужем</td>\n",
       "      <td>0</td>\n",
       "      <td>M</td>\n",
       "      <td>предприниматель</td>\n",
       "      <td>0</td>\n",
       "      <td>499163.144947</td>\n",
       "      <td>покупка жилой недвижимости</td>\n",
       "      <td>58</td>\n",
       "    </tr>\n",
       "    <tr>\n",
       "      <th>18697</th>\n",
       "      <td>0</td>\n",
       "      <td>520.0</td>\n",
       "      <td>высшее</td>\n",
       "      <td>0</td>\n",
       "      <td>гражданский брак</td>\n",
       "      <td>1</td>\n",
       "      <td>F</td>\n",
       "      <td>предприниматель</td>\n",
       "      <td>0</td>\n",
       "      <td>499163.144947</td>\n",
       "      <td>на проведение свадьбы</td>\n",
       "      <td>27</td>\n",
       "    </tr>\n",
       "  </tbody>\n",
       "</table>\n",
       "</div>"
      ],
      "text/plain": [
       "       children  days_employed education  education_id     family_status   \n",
       "5936          0         1203.0    высшее             0   женат / замужем  \\\n",
       "18697         0          520.0    высшее             0  гражданский брак   \n",
       "\n",
       "       family_status_id gender      income_type  debt   total_income   \n",
       "5936                  0      M  предприниматель     0  499163.144947  \\\n",
       "18697                 1      F  предприниматель     0  499163.144947   \n",
       "\n",
       "                          purpose  age  \n",
       "5936   покупка жилой недвижимости   58  \n",
       "18697       на проведение свадьбы   27  "
      ]
     },
     "execution_count": 353,
     "metadata": {},
     "output_type": "execute_result"
    }
   ],
   "source": [
    "data[data['income_type']=='предприниматель']"
   ]
  },
  {
   "cell_type": "code",
   "execution_count": 354,
   "id": "a9f6d97b",
   "metadata": {},
   "outputs": [
    {
     "data": {
      "text/html": [
       "<div>\n",
       "<style scoped>\n",
       "    .dataframe tbody tr th:only-of-type {\n",
       "        vertical-align: middle;\n",
       "    }\n",
       "\n",
       "    .dataframe tbody tr th {\n",
       "        vertical-align: top;\n",
       "    }\n",
       "\n",
       "    .dataframe thead th {\n",
       "        text-align: right;\n",
       "    }\n",
       "</style>\n",
       "<table border=\"1\" class=\"dataframe\">\n",
       "  <thead>\n",
       "    <tr style=\"text-align: right;\">\n",
       "      <th></th>\n",
       "      <th>children</th>\n",
       "      <th>days_employed</th>\n",
       "      <th>education</th>\n",
       "      <th>education_id</th>\n",
       "      <th>family_status</th>\n",
       "      <th>family_status_id</th>\n",
       "      <th>gender</th>\n",
       "      <th>income_type</th>\n",
       "      <th>debt</th>\n",
       "      <th>total_income</th>\n",
       "      <th>purpose</th>\n",
       "      <th>age</th>\n",
       "    </tr>\n",
       "  </thead>\n",
       "  <tbody>\n",
       "    <tr>\n",
       "      <th>0</th>\n",
       "      <td>1</td>\n",
       "      <td>8437.0</td>\n",
       "      <td>высшее</td>\n",
       "      <td>0</td>\n",
       "      <td>женат / замужем</td>\n",
       "      <td>0</td>\n",
       "      <td>F</td>\n",
       "      <td>сотрудник</td>\n",
       "      <td>0</td>\n",
       "      <td>253875</td>\n",
       "      <td>покупка жилья</td>\n",
       "      <td>42</td>\n",
       "    </tr>\n",
       "    <tr>\n",
       "      <th>1</th>\n",
       "      <td>1</td>\n",
       "      <td>4024.0</td>\n",
       "      <td>среднее</td>\n",
       "      <td>1</td>\n",
       "      <td>женат / замужем</td>\n",
       "      <td>0</td>\n",
       "      <td>F</td>\n",
       "      <td>сотрудник</td>\n",
       "      <td>0</td>\n",
       "      <td>112080</td>\n",
       "      <td>приобретение автомобиля</td>\n",
       "      <td>36</td>\n",
       "    </tr>\n",
       "    <tr>\n",
       "      <th>2</th>\n",
       "      <td>0</td>\n",
       "      <td>5623.0</td>\n",
       "      <td>Среднее</td>\n",
       "      <td>1</td>\n",
       "      <td>женат / замужем</td>\n",
       "      <td>0</td>\n",
       "      <td>M</td>\n",
       "      <td>сотрудник</td>\n",
       "      <td>0</td>\n",
       "      <td>145885</td>\n",
       "      <td>покупка жилья</td>\n",
       "      <td>33</td>\n",
       "    </tr>\n",
       "    <tr>\n",
       "      <th>3</th>\n",
       "      <td>3</td>\n",
       "      <td>4124.0</td>\n",
       "      <td>среднее</td>\n",
       "      <td>1</td>\n",
       "      <td>женат / замужем</td>\n",
       "      <td>0</td>\n",
       "      <td>M</td>\n",
       "      <td>сотрудник</td>\n",
       "      <td>0</td>\n",
       "      <td>267628</td>\n",
       "      <td>дополнительное образование</td>\n",
       "      <td>32</td>\n",
       "    </tr>\n",
       "    <tr>\n",
       "      <th>4</th>\n",
       "      <td>0</td>\n",
       "      <td>14235.0</td>\n",
       "      <td>среднее</td>\n",
       "      <td>1</td>\n",
       "      <td>гражданский брак</td>\n",
       "      <td>1</td>\n",
       "      <td>F</td>\n",
       "      <td>пенсионер</td>\n",
       "      <td>0</td>\n",
       "      <td>158616</td>\n",
       "      <td>сыграть свадьбу</td>\n",
       "      <td>53</td>\n",
       "    </tr>\n",
       "  </tbody>\n",
       "</table>\n",
       "</div>"
      ],
      "text/plain": [
       "   children  days_employed education  education_id     family_status   \n",
       "0         1         8437.0    высшее             0   женат / замужем  \\\n",
       "1         1         4024.0   среднее             1   женат / замужем   \n",
       "2         0         5623.0   Среднее             1   женат / замужем   \n",
       "3         3         4124.0   среднее             1   женат / замужем   \n",
       "4         0        14235.0   среднее             1  гражданский брак   \n",
       "\n",
       "   family_status_id gender income_type  debt  total_income   \n",
       "0                 0      F   сотрудник     0        253875  \\\n",
       "1                 0      F   сотрудник     0        112080   \n",
       "2                 0      M   сотрудник     0        145885   \n",
       "3                 0      M   сотрудник     0        267628   \n",
       "4                 1      F   пенсионер     0        158616   \n",
       "\n",
       "                      purpose  age  \n",
       "0               покупка жилья   42  \n",
       "1     приобретение автомобиля   36  \n",
       "2               покупка жилья   33  \n",
       "3  дополнительное образование   32  \n",
       "4             сыграть свадьбу   53  "
      ]
     },
     "execution_count": 354,
     "metadata": {},
     "output_type": "execute_result"
    }
   ],
   "source": [
    "# замениим тип данных столбца total_income float на int\n",
    "data['total_income']= data['total_income'].astype('int')\n",
    "data.head()"
   ]
  },
  {
   "cell_type": "code",
   "execution_count": 355,
   "id": "41762ce4",
   "metadata": {},
   "outputs": [
    {
     "name": "stdout",
     "output_type": "stream",
     "text": [
      "<class 'pandas.core.frame.DataFrame'>\n",
      "Index: 21524 entries, 0 to 21524\n",
      "Data columns (total 12 columns):\n",
      " #   Column            Non-Null Count  Dtype   \n",
      "---  ------            --------------  -----   \n",
      " 0   children          21524 non-null  int64   \n",
      " 1   days_employed     21522 non-null  float64 \n",
      " 2   education         21524 non-null  object  \n",
      " 3   education_id      21524 non-null  int64   \n",
      " 4   family_status     21524 non-null  object  \n",
      " 5   family_status_id  21524 non-null  int64   \n",
      " 6   gender            21524 non-null  category\n",
      " 7   income_type       21524 non-null  object  \n",
      " 8   debt              21524 non-null  int64   \n",
      " 9   total_income      21524 non-null  int32   \n",
      " 10  purpose           21524 non-null  object  \n",
      " 11  age               21524 non-null  int32   \n",
      "dtypes: category(1), float64(1), int32(2), int64(4), object(4)\n",
      "memory usage: 2.3+ MB\n"
     ]
    }
   ],
   "source": [
    "# преобразуем столбик gender в категориальный тип данных\n",
    "data['gender'] = data['gender'].astype('category')\n",
    "data.info()"
   ]
  },
  {
   "attachments": {},
   "cell_type": "markdown",
   "id": "8e824159",
   "metadata": {},
   "source": [
    "### Шаг 2.3. Удаление дубликатов."
   ]
  },
  {
   "attachments": {},
   "cell_type": "markdown",
   "id": "d5afd993",
   "metadata": {},
   "source": [
    "Перед чисткой дубликатов, необходимо обработать неявные дубликаты, такие как строки, записанные с использованием разного регистра в столбцах education, family_status. Для этого можно использовать метод str.lower(), который приведет все строки в столбце к нижнему регистру."
   ]
  },
  {
   "cell_type": "code",
   "execution_count": 356,
   "id": "5e50328e",
   "metadata": {},
   "outputs": [],
   "source": [
    "data['education'] = data['education'].str.lower() # приведем столбик education к нижниму регистру\n",
    "data['family_status'] = data['family_status'].str.lower() # приведем столбик family_status к нижниму регистру"
   ]
  },
  {
   "cell_type": "code",
   "execution_count": 357,
   "id": "edf73f12",
   "metadata": {},
   "outputs": [
    {
     "data": {
      "text/plain": [
       "71"
      ]
     },
     "execution_count": 357,
     "metadata": {},
     "output_type": "execute_result"
    }
   ],
   "source": [
    "data.duplicated().sum() # проверим количество дубликатов"
   ]
  },
  {
   "cell_type": "code",
   "execution_count": 358,
   "id": "433de941",
   "metadata": {},
   "outputs": [
    {
     "data": {
      "text/plain": [
       "0"
      ]
     },
     "execution_count": 358,
     "metadata": {},
     "output_type": "execute_result"
    }
   ],
   "source": [
    "# удалим явные дубликаты и проверим их количество\n",
    "data = data.drop_duplicates().reset_index(drop=True) \n",
    "data.duplicated().sum()\n"
   ]
  },
  {
   "attachments": {},
   "cell_type": "markdown",
   "id": "4da9060d",
   "metadata": {},
   "source": [
    "### Шаг 2.5. Формирование дополнительных датафреймов словарей, декомпозиция исходного датафрейма."
   ]
  },
  {
   "cell_type": "code",
   "execution_count": 359,
   "id": "d22b70cd",
   "metadata": {},
   "outputs": [
    {
     "data": {
      "text/plain": [
       "array(['высшее', 'среднее', 'неоконченное высшее', 'начальное',\n",
       "       'ученая степень'], dtype=object)"
      ]
     },
     "metadata": {},
     "output_type": "display_data"
    },
    {
     "data": {
      "text/html": [
       "<div>\n",
       "<style scoped>\n",
       "    .dataframe tbody tr th:only-of-type {\n",
       "        vertical-align: middle;\n",
       "    }\n",
       "\n",
       "    .dataframe tbody tr th {\n",
       "        vertical-align: top;\n",
       "    }\n",
       "\n",
       "    .dataframe thead th {\n",
       "        text-align: right;\n",
       "    }\n",
       "</style>\n",
       "<table border=\"1\" class=\"dataframe\">\n",
       "  <thead>\n",
       "    <tr style=\"text-align: right;\">\n",
       "      <th></th>\n",
       "      <th>index</th>\n",
       "      <th>family_status</th>\n",
       "      <th>family_status_id</th>\n",
       "    </tr>\n",
       "  </thead>\n",
       "  <tbody>\n",
       "    <tr>\n",
       "      <th>0</th>\n",
       "      <td>0</td>\n",
       "      <td>женат / замужем</td>\n",
       "      <td>0</td>\n",
       "    </tr>\n",
       "    <tr>\n",
       "      <th>1</th>\n",
       "      <td>4</td>\n",
       "      <td>гражданский брак</td>\n",
       "      <td>1</td>\n",
       "    </tr>\n",
       "    <tr>\n",
       "      <th>2</th>\n",
       "      <td>18</td>\n",
       "      <td>вдовец / вдова</td>\n",
       "      <td>2</td>\n",
       "    </tr>\n",
       "    <tr>\n",
       "      <th>3</th>\n",
       "      <td>19</td>\n",
       "      <td>в разводе</td>\n",
       "      <td>3</td>\n",
       "    </tr>\n",
       "    <tr>\n",
       "      <th>4</th>\n",
       "      <td>24</td>\n",
       "      <td>не женат / не замужем</td>\n",
       "      <td>4</td>\n",
       "    </tr>\n",
       "  </tbody>\n",
       "</table>\n",
       "</div>"
      ],
      "text/plain": [
       "   index          family_status  family_status_id\n",
       "0      0        женат / замужем                 0\n",
       "1      4       гражданский брак                 1\n",
       "2     18         вдовец / вдова                 2\n",
       "3     19              в разводе                 3\n",
       "4     24  не женат / не замужем                 4"
      ]
     },
     "metadata": {},
     "output_type": "display_data"
    },
    {
     "data": {
      "text/plain": [
       "array(['женат / замужем', 'гражданский брак', 'вдовец / вдова',\n",
       "       'в разводе', 'не женат / не замужем'], dtype=object)"
      ]
     },
     "metadata": {},
     "output_type": "display_data"
    }
   ],
   "source": [
    "# достаем из датафрейма data два столбца education и family_status с id столбцами для дольнейшего анализа\n",
    "# удаляем столбцы  education и family_status из исходного датафрейма\n",
    "education_group = data[['education','education_id']].drop_duplicates()\n",
    "display(education_group['education'].unique())\n",
    "del data['education']\n",
    "family_status_group = data[['family_status','family_status_id']].drop_duplicates().reset_index()\n",
    "display(family_status_group)\n",
    "display(family_status_group['family_status'].unique())\n",
    "del data['family_status']"
   ]
  },
  {
   "attachments": {},
   "cell_type": "markdown",
   "id": "2fd70664",
   "metadata": {},
   "source": [
    "### Шаг 2.6. Категоризация дохода."
   ]
  },
  {
   "cell_type": "code",
   "execution_count": 360,
   "id": "f0e0e25d",
   "metadata": {},
   "outputs": [],
   "source": [
    "def total_income_category(row):\n",
    "    \"\"\"\n",
    "    Присваивает индекс клиенту банка в зависимости от финансового \n",
    "    дохода клиента: 0–30000 — 'E'; 30001–50000 — 'D'; 50001–200000 — 'C';\n",
    "    200001–1000000 — 'B'; 1000001 и выше — 'A'.\n",
    "    \"\"\"\n",
    "    income = row['total_income']\n",
    "    if income<=30000:\n",
    "        return 'E'\n",
    "    elif 30001<=income<=50000:\n",
    "        return 'D'\n",
    "    elif 50001<=income<=200000:\n",
    "        return 'C'\n",
    "    elif 200001<=income<=1000000:\n",
    "        return 'B'\n",
    "    else:\n",
    "        return 'A'"
   ]
  },
  {
   "cell_type": "code",
   "execution_count": 361,
   "id": "4988844d",
   "metadata": {},
   "outputs": [],
   "source": [
    "# добавим новый столбик с присвоенными категориями по уровню достатка \n",
    "# с помощью фцункции total_income_category\n",
    "data['total_income_category'] = data.apply(total_income_category, axis=1).astype('category')"
   ]
  },
  {
   "attachments": {},
   "cell_type": "markdown",
   "id": "5dacda3c",
   "metadata": {},
   "source": [
    "### Шаг 2.7. Категоризация целей кредита."
   ]
  },
  {
   "cell_type": "code",
   "execution_count": 362,
   "id": "ac215b16",
   "metadata": {},
   "outputs": [
    {
     "data": {
      "text/plain": [
       "array(['покупка жилья', 'приобретение автомобиля',\n",
       "       'дополнительное образование', 'сыграть свадьбу',\n",
       "       'операции с жильем', 'образование', 'на проведение свадьбы',\n",
       "       'покупка жилья для семьи', 'покупка недвижимости',\n",
       "       'покупка коммерческой недвижимости', 'покупка жилой недвижимости',\n",
       "       'строительство собственной недвижимости', 'недвижимость',\n",
       "       'строительство недвижимости', 'на покупку подержанного автомобиля',\n",
       "       'на покупку своего автомобиля',\n",
       "       'операции с коммерческой недвижимостью',\n",
       "       'строительство жилой недвижимости', 'жилье',\n",
       "       'операции со своей недвижимостью', 'автомобили',\n",
       "       'заняться образованием', 'сделка с подержанным автомобилем',\n",
       "       'получение образования', 'автомобиль', 'свадьба',\n",
       "       'получение дополнительного образования', 'покупка своего жилья',\n",
       "       'операции с недвижимостью', 'получение высшего образования',\n",
       "       'свой автомобиль', 'сделка с автомобилем',\n",
       "       'профильное образование', 'высшее образование',\n",
       "       'покупка жилья для сдачи', 'на покупку автомобиля', 'ремонт жилью',\n",
       "       'заняться высшим образованием'], dtype=object)"
      ]
     },
     "execution_count": 362,
     "metadata": {},
     "output_type": "execute_result"
    }
   ],
   "source": [
    "# выведем список уникальных значений в столбце purpose (цель кредита)\n",
    "data['purpose'].unique()"
   ]
  },
  {
   "attachments": {},
   "cell_type": "markdown",
   "id": "38f819da",
   "metadata": {},
   "source": [
    "Основные ключевые слова, которые встречаются: образование, автомобиль, свадьба, недвижимость"
   ]
  },
  {
   "cell_type": "code",
   "execution_count": 363,
   "id": "24d36758",
   "metadata": {},
   "outputs": [],
   "source": [
    "def purpose_category(row):\n",
    "    \"\"\"\n",
    "    Функция возвращает значение из 4 категорий: 'операции с автомобилем',\n",
    "'операции с недвижимостью', 'проведение свадьбы', 'получение образования'.\n",
    "Ориентируясь на ключевые уникальные слова в столбце purpose \n",
    "    \"\"\"\n",
    "    purpose = row['purpose']\n",
    "    auto = 'автомоб'\n",
    "    house =['жил', 'недвижим']\n",
    "    wedding = 'свадьб'\n",
    "    education = 'образов'\n",
    "    if auto in purpose:\n",
    "        return 'операции с автомобилем'\n",
    "    elif house[0] in purpose or house[1] in purpose:\n",
    "        return 'операции с недвижимостью'\n",
    "    elif wedding in purpose:\n",
    "        return 'проведение свадьбы'\n",
    "    elif education in purpose:\n",
    "        return 'получение образования'"
   ]
  },
  {
   "cell_type": "code",
   "execution_count": 364,
   "id": "1700d4c0",
   "metadata": {},
   "outputs": [],
   "source": [
    "#проверка функции purpose_category\n",
    "# test_data = ['покупка жилья', 'приобретение автомобиля',\n",
    "#        'дополнительное образование', 'сыграть свадьбу',\n",
    "#        'операции с жильем', 'образование', 'на проведение свадьбы',\n",
    "#        'покупка жилья для семьи', 'покупка недвижимости',\n",
    "#        'покупка коммерческой недвижимости', 'покупка жилой недвижимости',\n",
    "#        'строительство собственной недвижимости', 'недвижимость',\n",
    "#        'строительство недвижимости', 'на покупку подержанного автомобиля',\n",
    "#        'на покупку своего автомобиля',\n",
    "#        'операции с коммерческой недвижимостью',\n",
    "#        'строительство жилой недвижимости', 'жилье',\n",
    "#        'операции со своей недвижимостью', 'автомобили',\n",
    "#        'заняться образованием', 'сделка с подержанным автомобилем',\n",
    "#        'получение образования', 'автомобиль', 'свадьба',\n",
    "#        'получение дополнительного образования', 'покупка своего жилья',\n",
    "#        'операции с недвижимостью', 'получение высшего образования',\n",
    "#        'свой автомобиль', 'сделка с автомобилем',\n",
    "#        'профильное образование', 'высшее образование',\n",
    "#        'покупка жилья для сдачи', 'на покупку автомобиля', 'ремонт жилью',\n",
    "#        'заняться высшим образованием']\n",
    "# test_columns = ['purpose']\n",
    "# row = pd.DataFrame(test_data, columns=test_columns)\n",
    "# row['test'] = row.apply(purpose_category,axis=1)\n",
    "# row\n"
   ]
  },
  {
   "cell_type": "code",
   "execution_count": 365,
   "id": "8ea73e01",
   "metadata": {},
   "outputs": [],
   "source": [
    "# создание столбца с категоризацией по виду категории кредита\n",
    "data['purpose_category'] = data.apply(purpose_category, axis=1)"
   ]
  },
  {
   "cell_type": "code",
   "execution_count": 366,
   "id": "ea3fea91",
   "metadata": {},
   "outputs": [
    {
     "data": {
      "text/plain": [
       "{'операции с недвижимостью': 0,\n",
       " 'операции с автомобилем': 1,\n",
       " 'получение образования': 2,\n",
       " 'проведение свадьбы': 3}"
      ]
     },
     "execution_count": 366,
     "metadata": {},
     "output_type": "execute_result"
    }
   ],
   "source": [
    "# Создадим отдельную таблицу категорий назначения кредита и столбик в data purpose_category_id\n",
    "purpose_group = {data['purpose_category'].unique()[i]: i for i in range(len(data['purpose_category'].unique()))}\n",
    "purpose_group"
   ]
  },
  {
   "cell_type": "code",
   "execution_count": 367,
   "id": "29069cf8",
   "metadata": {},
   "outputs": [
    {
     "data": {
      "text/html": [
       "<div>\n",
       "<style scoped>\n",
       "    .dataframe tbody tr th:only-of-type {\n",
       "        vertical-align: middle;\n",
       "    }\n",
       "\n",
       "    .dataframe tbody tr th {\n",
       "        vertical-align: top;\n",
       "    }\n",
       "\n",
       "    .dataframe thead th {\n",
       "        text-align: right;\n",
       "    }\n",
       "</style>\n",
       "<table border=\"1\" class=\"dataframe\">\n",
       "  <thead>\n",
       "    <tr style=\"text-align: right;\">\n",
       "      <th></th>\n",
       "      <th>purpose</th>\n",
       "      <th>purpose_category</th>\n",
       "      <th>purpose_category_id</th>\n",
       "    </tr>\n",
       "  </thead>\n",
       "  <tbody>\n",
       "    <tr>\n",
       "      <th>0</th>\n",
       "      <td>покупка жилья</td>\n",
       "      <td>операции с недвижимостью</td>\n",
       "      <td>0</td>\n",
       "    </tr>\n",
       "    <tr>\n",
       "      <th>1</th>\n",
       "      <td>приобретение автомобиля</td>\n",
       "      <td>операции с автомобилем</td>\n",
       "      <td>1</td>\n",
       "    </tr>\n",
       "    <tr>\n",
       "      <th>2</th>\n",
       "      <td>покупка жилья</td>\n",
       "      <td>операции с недвижимостью</td>\n",
       "      <td>0</td>\n",
       "    </tr>\n",
       "    <tr>\n",
       "      <th>3</th>\n",
       "      <td>дополнительное образование</td>\n",
       "      <td>получение образования</td>\n",
       "      <td>2</td>\n",
       "    </tr>\n",
       "    <tr>\n",
       "      <th>4</th>\n",
       "      <td>сыграть свадьбу</td>\n",
       "      <td>проведение свадьбы</td>\n",
       "      <td>3</td>\n",
       "    </tr>\n",
       "  </tbody>\n",
       "</table>\n",
       "</div>"
      ],
      "text/plain": [
       "                      purpose          purpose_category  purpose_category_id\n",
       "0               покупка жилья  операции с недвижимостью                    0\n",
       "1     приобретение автомобиля    операции с автомобилем                    1\n",
       "2               покупка жилья  операции с недвижимостью                    0\n",
       "3  дополнительное образование     получение образования                    2\n",
       "4             сыграть свадьбу        проведение свадьбы                    3"
      ]
     },
     "execution_count": 367,
     "metadata": {},
     "output_type": "execute_result"
    }
   ],
   "source": [
    "#  создадим столбец в датафрейме с соответствующим id\n",
    "data['purpose_category_id'] = data['purpose_category'].map(lambda x: purpose_group[x])\n",
    "data[['purpose', 'purpose_category', 'purpose_category_id']].head()"
   ]
  },
  {
   "cell_type": "code",
   "execution_count": 368,
   "id": "5580c939",
   "metadata": {},
   "outputs": [
    {
     "data": {
      "text/html": [
       "<div>\n",
       "<style scoped>\n",
       "    .dataframe tbody tr th:only-of-type {\n",
       "        vertical-align: middle;\n",
       "    }\n",
       "\n",
       "    .dataframe tbody tr th {\n",
       "        vertical-align: top;\n",
       "    }\n",
       "\n",
       "    .dataframe thead th {\n",
       "        text-align: right;\n",
       "    }\n",
       "</style>\n",
       "<table border=\"1\" class=\"dataframe\">\n",
       "  <thead>\n",
       "    <tr style=\"text-align: right;\">\n",
       "      <th></th>\n",
       "      <th>purpose_category</th>\n",
       "      <th>purpose_category_id</th>\n",
       "    </tr>\n",
       "  </thead>\n",
       "  <tbody>\n",
       "    <tr>\n",
       "      <th>0</th>\n",
       "      <td>операции с недвижимостью</td>\n",
       "      <td>0</td>\n",
       "    </tr>\n",
       "    <tr>\n",
       "      <th>1</th>\n",
       "      <td>операции с автомобилем</td>\n",
       "      <td>1</td>\n",
       "    </tr>\n",
       "    <tr>\n",
       "      <th>2</th>\n",
       "      <td>получение образования</td>\n",
       "      <td>2</td>\n",
       "    </tr>\n",
       "    <tr>\n",
       "      <th>3</th>\n",
       "      <td>проведение свадьбы</td>\n",
       "      <td>3</td>\n",
       "    </tr>\n",
       "  </tbody>\n",
       "</table>\n",
       "</div>"
      ],
      "text/plain": [
       "           purpose_category  purpose_category_id\n",
       "0  операции с недвижимостью                    0\n",
       "1    операции с автомобилем                    1\n",
       "2     получение образования                    2\n",
       "3        проведение свадьбы                    3"
      ]
     },
     "execution_count": 368,
     "metadata": {},
     "output_type": "execute_result"
    }
   ],
   "source": [
    "# для удобства преобразуем purpoce_group в датафрейм и удалим лишний столбец из датафрейма data\n",
    "purpose_group = pd.DataFrame(data=purpose_group, index=['purpose_category_id']).T.reset_index().rename(columns={'index':'purpose_category'}) # T меняем местами столбцы и строки (транспонирование)\n",
    "data = data.drop(['purpose', 'purpose_category'], axis=1) # удаляем лишние столбцы 'purpose', 'purpose_category'\n",
    "purpose_group"
   ]
  },
  {
   "attachments": {},
   "cell_type": "markdown",
   "id": "bb841749",
   "metadata": {},
   "source": [
    "### Ответы на вопросы."
   ]
  },
  {
   "attachments": {},
   "cell_type": "markdown",
   "id": "91e853a3",
   "metadata": {},
   "source": [
    "##### Вопрос 1: Есть ли зависимость между количеством детей и возвратом кредита в срок?"
   ]
  },
  {
   "cell_type": "code",
   "execution_count": 369,
   "id": "5ebc849e",
   "metadata": {},
   "outputs": [
    {
     "data": {
      "text/html": [
       "<div>\n",
       "<style scoped>\n",
       "    .dataframe tbody tr th:only-of-type {\n",
       "        vertical-align: middle;\n",
       "    }\n",
       "\n",
       "    .dataframe tbody tr th {\n",
       "        vertical-align: top;\n",
       "    }\n",
       "\n",
       "    .dataframe thead th {\n",
       "        text-align: right;\n",
       "    }\n",
       "</style>\n",
       "<table border=\"1\" class=\"dataframe\">\n",
       "  <thead>\n",
       "    <tr style=\"text-align: right;\">\n",
       "      <th></th>\n",
       "      <th>children</th>\n",
       "      <th>has_a_debt</th>\n",
       "      <th>has_no_debt</th>\n",
       "      <th>share_has_a_debt</th>\n",
       "      <th>share_has_no_debt</th>\n",
       "    </tr>\n",
       "  </thead>\n",
       "  <tbody>\n",
       "    <tr>\n",
       "      <th>0</th>\n",
       "      <td>0</td>\n",
       "      <td>1063</td>\n",
       "      <td>13027</td>\n",
       "      <td>7.54</td>\n",
       "      <td>92.46</td>\n",
       "    </tr>\n",
       "    <tr>\n",
       "      <th>1</th>\n",
       "      <td>1</td>\n",
       "      <td>445</td>\n",
       "      <td>4410</td>\n",
       "      <td>9.17</td>\n",
       "      <td>90.83</td>\n",
       "    </tr>\n",
       "    <tr>\n",
       "      <th>2</th>\n",
       "      <td>2</td>\n",
       "      <td>202</td>\n",
       "      <td>1926</td>\n",
       "      <td>9.49</td>\n",
       "      <td>90.51</td>\n",
       "    </tr>\n",
       "    <tr>\n",
       "      <th>3</th>\n",
       "      <td>3</td>\n",
       "      <td>27</td>\n",
       "      <td>303</td>\n",
       "      <td>8.18</td>\n",
       "      <td>91.82</td>\n",
       "    </tr>\n",
       "    <tr>\n",
       "      <th>4</th>\n",
       "      <td>4</td>\n",
       "      <td>4</td>\n",
       "      <td>37</td>\n",
       "      <td>9.76</td>\n",
       "      <td>90.24</td>\n",
       "    </tr>\n",
       "  </tbody>\n",
       "</table>\n",
       "</div>"
      ],
      "text/plain": [
       "   children  has_a_debt  has_no_debt  share_has_a_debt  share_has_no_debt\n",
       "0         0        1063        13027              7.54              92.46\n",
       "1         1         445         4410              9.17              90.83\n",
       "2         2         202         1926              9.49              90.51\n",
       "3         3          27          303              8.18              91.82\n",
       "4         4           4           37              9.76              90.24"
      ]
     },
     "execution_count": 369,
     "metadata": {},
     "output_type": "execute_result"
    }
   ],
   "source": [
    "# группируем с условием по id возврата/задолжности кредита в два разных датафрейма по разным id\n",
    "children_1 = data[data['debt']==1].groupby('children').size().reset_index(name='has_a_debt')\n",
    "children_0 = data[data['debt']==0].groupby('children').size().reset_index(name='has_no_debt')\n",
    "# объединяем по общему столбцу children эти два датафрейма для получения общего с величинами количества возвратов и задолжностей\n",
    "children = children_1.merge(children_0, on='children')\n",
    "# вычисляем процент возврата в зависимотси от наличия ребенка в семье, округляем до сотый для удобства \n",
    "children['share_has_a_debt']= (children['has_a_debt']/(children['has_no_debt']+children['has_a_debt'])*100).round(2)\n",
    "children['share_has_no_debt']= (children['has_no_debt']/(children['has_no_debt']+children['has_a_debt'])*100).round(2)\n",
    "children"
   ]
  },
  {
   "cell_type": "code",
   "execution_count": 370,
   "id": "2e03ef0d",
   "metadata": {},
   "outputs": [
    {
     "data": {
      "text/html": [
       "<div>\n",
       "<style scoped>\n",
       "    .dataframe tbody tr th:only-of-type {\n",
       "        vertical-align: middle;\n",
       "    }\n",
       "\n",
       "    .dataframe tbody tr th {\n",
       "        vertical-align: top;\n",
       "    }\n",
       "\n",
       "    .dataframe thead th {\n",
       "        text-align: right;\n",
       "    }\n",
       "</style>\n",
       "<table border=\"1\" class=\"dataframe\">\n",
       "  <thead>\n",
       "    <tr style=\"text-align: right;\">\n",
       "      <th>children</th>\n",
       "      <th>0</th>\n",
       "      <th>1</th>\n",
       "      <th>2</th>\n",
       "      <th>3</th>\n",
       "      <th>4</th>\n",
       "      <th>5</th>\n",
       "      <th>All</th>\n",
       "    </tr>\n",
       "    <tr>\n",
       "      <th>debt</th>\n",
       "      <th></th>\n",
       "      <th></th>\n",
       "      <th></th>\n",
       "      <th></th>\n",
       "      <th></th>\n",
       "      <th></th>\n",
       "      <th></th>\n",
       "    </tr>\n",
       "  </thead>\n",
       "  <tbody>\n",
       "    <tr>\n",
       "      <th>0</th>\n",
       "      <td>0.924556</td>\n",
       "      <td>0.908342</td>\n",
       "      <td>0.905075</td>\n",
       "      <td>0.918182</td>\n",
       "      <td>0.902439</td>\n",
       "      <td>1.0</td>\n",
       "      <td>0.918846</td>\n",
       "    </tr>\n",
       "    <tr>\n",
       "      <th>1</th>\n",
       "      <td>0.075444</td>\n",
       "      <td>0.091658</td>\n",
       "      <td>0.094925</td>\n",
       "      <td>0.081818</td>\n",
       "      <td>0.097561</td>\n",
       "      <td>0.0</td>\n",
       "      <td>0.081154</td>\n",
       "    </tr>\n",
       "  </tbody>\n",
       "</table>\n",
       "</div>"
      ],
      "text/plain": [
       "children         0         1         2         3         4    5       All\n",
       "debt                                                                     \n",
       "0         0.924556  0.908342  0.905075  0.918182  0.902439  1.0  0.918846\n",
       "1         0.075444  0.091658  0.094925  0.081818  0.097561  0.0  0.081154"
      ]
     },
     "execution_count": 370,
     "metadata": {},
     "output_type": "execute_result"
    }
   ],
   "source": [
    "# делаем все тоже самое, выводим зависимость в процентах, но быстрее и проще с помощью сводных таблиц\n",
    "children_debt = pd.crosstab(index= data['debt'], columns=data['children'], normalize='columns', margins=True)\n",
    "children_debt"
   ]
  },
  {
   "attachments": {},
   "cell_type": "markdown",
   "id": "8209751b",
   "metadata": {},
   "source": [
    "##### Вывод 1:"
   ]
  },
  {
   "attachments": {},
   "cell_type": "markdown",
   "id": "07aacf92",
   "metadata": {},
   "source": [
    "На основе представленных данных, можно сделать вывод о том, что зависимость от количества детей оказывает влияние на невозврат кредита в срок. Доля должников в группе без детей всего 7,5%, а в греппе с 2 детьми 9,5%.\n",
    "\n",
    "Отобразим все это на графике для наглядности."
   ]
  },
  {
   "cell_type": "code",
   "execution_count": 371,
   "id": "0896a174",
   "metadata": {},
   "outputs": [
    {
     "data": {
      "image/png": "[encoded data removed]",
      "text/plain": [
       "<Figure size 640x480 with 1 Axes>"
      ]
     },
     "metadata": {},
     "output_type": "display_data"
    }
   ],
   "source": [
    "fig, ax= plt.subplots() # создаем новый объекс Figure и Axes, область для рисования\n",
    "\n",
    "ax.axhline(y=children_debt.iloc[1,6], label = 'среднее доля должников, по всей базе') # строим график в виде линии для средней доли должников\n",
    "ax.plot(children_debt.iloc[1,:6], 'r', label='доля должников, по категории') # строим график в виде линии для должников по группам\n",
    "plt.legend() # добавляем легенду\n",
    "plt.xlim(left=0) # устанавливаем левую границу по X от 0\n",
    "plt.xlabel('Количество детей у клиента')\n",
    "plt.ylabel('Доля должников') \n",
    "ax.set_title('Количество клиентов, имеющих задолженность в зависимости от количества детей')\n",
    "plt.show()"
   ]
  },
  {
   "attachments": {},
   "cell_type": "markdown",
   "id": "4208e5d3",
   "metadata": {},
   "source": [
    "Наибольшее число должников приходится на заемщиков с 2 и 4 детьми. В категоии 5 детей видно какую-то анамалию."
   ]
  },
  {
   "cell_type": "code",
   "execution_count": 372,
   "id": "023f05bf",
   "metadata": {},
   "outputs": [
    {
     "data": {
      "text/plain": [
       "children\n",
       "0    14090\n",
       "1     4855\n",
       "2     2128\n",
       "3      330\n",
       "4       41\n",
       "5        9\n",
       "Name: count, dtype: int64"
      ]
     },
     "execution_count": 372,
     "metadata": {},
     "output_type": "execute_result"
    }
   ],
   "source": [
    "data['children'].value_counts()"
   ]
  },
  {
   "attachments": {},
   "cell_type": "markdown",
   "id": "48e8ceae",
   "metadata": {},
   "source": [
    "Заемщиков с 5 детьми всего 9 человек, что не является показателем, можно эту аномалию проигнорировать. Так же можно заметить что 3 и 4 ребенка имеют не такая большая доля заемщиков, что тоже не является большим показателем. Но судя по всем данным наблюдается растущий тренд."
   ]
  },
  {
   "attachments": {},
   "cell_type": "markdown",
   "id": "12657075",
   "metadata": {},
   "source": [
    "Вывод:\n",
    "\n",
    "Зависимость между количество детей и возвратом кредита присутствует. Наибольшее число невозвратов наблюдается у заемщиков с 2 и 4 детьми. Можно сделать заключение, что чем больше детей, тем больше вероятность невозврата."
   ]
  },
  {
   "attachments": {},
   "cell_type": "markdown",
   "id": "95c54596",
   "metadata": {},
   "source": [
    "##### Вопрос 2: Есть ли зависимость между семейным положением и возвратом кредита в срок?\n"
   ]
  },
  {
   "cell_type": "code",
   "execution_count": 373,
   "id": "b9a38c8a",
   "metadata": {},
   "outputs": [
    {
     "data": {
      "text/html": [
       "<div>\n",
       "<style scoped>\n",
       "    .dataframe tbody tr th:only-of-type {\n",
       "        vertical-align: middle;\n",
       "    }\n",
       "\n",
       "    .dataframe tbody tr th {\n",
       "        vertical-align: top;\n",
       "    }\n",
       "\n",
       "    .dataframe thead th {\n",
       "        text-align: right;\n",
       "    }\n",
       "</style>\n",
       "<table border=\"1\" class=\"dataframe\">\n",
       "  <thead>\n",
       "    <tr style=\"text-align: right;\">\n",
       "      <th></th>\n",
       "      <th>index</th>\n",
       "      <th>family_status</th>\n",
       "      <th>family_status_id</th>\n",
       "    </tr>\n",
       "  </thead>\n",
       "  <tbody>\n",
       "    <tr>\n",
       "      <th>0</th>\n",
       "      <td>0</td>\n",
       "      <td>женат / замужем</td>\n",
       "      <td>0</td>\n",
       "    </tr>\n",
       "    <tr>\n",
       "      <th>1</th>\n",
       "      <td>4</td>\n",
       "      <td>гражданский брак</td>\n",
       "      <td>1</td>\n",
       "    </tr>\n",
       "    <tr>\n",
       "      <th>2</th>\n",
       "      <td>18</td>\n",
       "      <td>вдовец / вдова</td>\n",
       "      <td>2</td>\n",
       "    </tr>\n",
       "    <tr>\n",
       "      <th>3</th>\n",
       "      <td>19</td>\n",
       "      <td>в разводе</td>\n",
       "      <td>3</td>\n",
       "    </tr>\n",
       "    <tr>\n",
       "      <th>4</th>\n",
       "      <td>24</td>\n",
       "      <td>не женат / не замужем</td>\n",
       "      <td>4</td>\n",
       "    </tr>\n",
       "  </tbody>\n",
       "</table>\n",
       "</div>"
      ],
      "text/plain": [
       "   index          family_status  family_status_id\n",
       "0      0        женат / замужем                 0\n",
       "1      4       гражданский брак                 1\n",
       "2     18         вдовец / вдова                 2\n",
       "3     19              в разводе                 3\n",
       "4     24  не женат / не замужем                 4"
      ]
     },
     "metadata": {},
     "output_type": "display_data"
    },
    {
     "data": {
      "text/html": [
       "<div>\n",
       "<style scoped>\n",
       "    .dataframe tbody tr th:only-of-type {\n",
       "        vertical-align: middle;\n",
       "    }\n",
       "\n",
       "    .dataframe tbody tr th {\n",
       "        vertical-align: top;\n",
       "    }\n",
       "\n",
       "    .dataframe thead th {\n",
       "        text-align: right;\n",
       "    }\n",
       "</style>\n",
       "<table border=\"1\" class=\"dataframe\">\n",
       "  <thead>\n",
       "    <tr style=\"text-align: right;\">\n",
       "      <th>family_status_id</th>\n",
       "      <th>женат / замужем</th>\n",
       "      <th>гражданский брак</th>\n",
       "      <th>вдовец / вдова</th>\n",
       "      <th>в разводе</th>\n",
       "      <th>не женат / не замужем</th>\n",
       "      <th>All</th>\n",
       "    </tr>\n",
       "    <tr>\n",
       "      <th>debt</th>\n",
       "      <th></th>\n",
       "      <th></th>\n",
       "      <th></th>\n",
       "      <th></th>\n",
       "      <th></th>\n",
       "      <th></th>\n",
       "    </tr>\n",
       "  </thead>\n",
       "  <tbody>\n",
       "    <tr>\n",
       "      <th>0</th>\n",
       "      <td>0.924548</td>\n",
       "      <td>0.906506</td>\n",
       "      <td>0.934307</td>\n",
       "      <td>0.92887</td>\n",
       "      <td>0.902491</td>\n",
       "      <td>0.918846</td>\n",
       "    </tr>\n",
       "    <tr>\n",
       "      <th>1</th>\n",
       "      <td>0.075452</td>\n",
       "      <td>0.093494</td>\n",
       "      <td>0.065693</td>\n",
       "      <td>0.07113</td>\n",
       "      <td>0.097509</td>\n",
       "      <td>0.081154</td>\n",
       "    </tr>\n",
       "  </tbody>\n",
       "</table>\n",
       "</div>"
      ],
      "text/plain": [
       "family_status_id  женат / замужем  гражданский брак  вдовец / вдова   \n",
       "debt                                                                  \n",
       "0                        0.924548          0.906506        0.934307  \\\n",
       "1                        0.075452          0.093494        0.065693   \n",
       "\n",
       "family_status_id  в разводе  не женат / не замужем       All  \n",
       "debt                                                          \n",
       "0                   0.92887               0.902491  0.918846  \n",
       "1                   0.07113               0.097509  0.081154  "
      ]
     },
     "execution_count": 373,
     "metadata": {},
     "output_type": "execute_result"
    }
   ],
   "source": [
    "family_debt = pd.crosstab(index=data['debt'], columns=data['family_status_id'], margins=True, normalize='columns') # создадим сводную таблицу \n",
    "display(family_status_group)\n",
    "family_debt = family_debt.rename(columns=dict(zip(family_debt.columns, family_status_group['family_status']))) # заменим значение id на наглядный статус\n",
    "family_debt"
   ]
  },
  {
   "attachments": {},
   "cell_type": "markdown",
   "id": "a2a68bcc",
   "metadata": {},
   "source": [
    "Из данных видно, что наименьшее число невозвратов имеют вдовцы\\вдовы, а так же в разводе. А наибольшее значение не женатые\\не замужние люди."
   ]
  },
  {
   "cell_type": "code",
   "execution_count": 374,
   "metadata": {},
   "outputs": [
    {
     "name": "stderr",
     "output_type": "stream",
     "text": [
      "C:\\Users\\user\\AppData\\Local\\Temp\\ipykernel_15120\\4266087275.py:8: UserWarning: FixedFormatter should only be used together with FixedLocator\n",
      "  ax.set_xticklabels(family_debt.columns, rotation=15) # поворачиваем значения оси Х на 15 градусов\n"
     ]
    },
    {
     "data": {
      "image/png": "[encoded data removed]",
      "text/plain": [
       "<Figure size 640x480 with 1 Axes>"
      ]
     },
     "metadata": {},
     "output_type": "display_data"
    }
   ],
   "source": [
    "fig, ax = plt.subplots() # создаем поле \n",
    "ax.axhline(y=family_debt.iloc[1,5], label='среднее доля должников, по всей базе') # создаем линию среднего невозврата\n",
    "ax.plot(family_debt.iloc[1,:5], 'r', label='доля должников, внутри категории') # создаем кривую невозврата\n",
    "plt.legend()\n",
    "plt.xlim(left=0)\n",
    "plt.xlabel('Семейное положение')\n",
    "plt.ylabel('Доля должников')\n",
    "ax.set_xticklabels(family_debt.columns, rotation=15) # поворачиваем значения оси Х на 15 градусов\n",
    "plt.show()"
   ]
  },
  {
   "cell_type": "code",
   "execution_count": 375,
   "id": "89d1de4d",
   "metadata": {},
   "outputs": [
    {
     "data": {
      "text/plain": [
       "family_status_id\n",
       "0    12339\n",
       "1     4150\n",
       "4     2810\n",
       "3     1195\n",
       "2      959\n",
       "Name: count, dtype: int64"
      ]
     },
     "execution_count": 375,
     "metadata": {},
     "output_type": "execute_result"
    }
   ],
   "source": [
    "# проверим количество значений в столбце family статус, чтобы убедиться в отсутствии аномалий\n",
    "data['family_status_id'].value_counts()\n"
   ]
  },
  {
   "attachments": {},
   "cell_type": "markdown",
   "id": "67263e5c",
   "metadata": {},
   "source": [
    "Значений достаточно для анализа"
   ]
  },
  {
   "attachments": {},
   "cell_type": "markdown",
   "id": "0bd3e158",
   "metadata": {},
   "source": [
    "Вывод: \n",
    "\n",
    "На основе представленных данных, можно сделать вывод о том, что семейное оказывает влияние на возврат кредита в срок. \n",
    "Наибольшая доля должников наблюдается среди клиентов с семейным статусом \"гражданский брак\" и \"не женат / не замужем\"\n",
    "Наименьшая доля должников наблюдается среди клиентов с семейным статусом \"вдовец / вдова\""
   ]
  },
  {
   "attachments": {},
   "cell_type": "markdown",
   "id": "9880d8e3",
   "metadata": {},
   "source": [
    "##### Вопрос 3: Есть ли зависимость между уровнем дохода и возвратом кредита в срок?\n"
   ]
  },
  {
   "cell_type": "code",
   "execution_count": 376,
   "id": "1c1075ec",
   "metadata": {},
   "outputs": [
    {
     "name": "stdout",
     "output_type": "stream",
     "text": [
      "Help on function total_income_category in module __main__:\n",
      "\n",
      "total_income_category(row)\n",
      "    Присваивает индекс клиенту банка в зависимости от финансового \n",
      "    дохода клиента: 0–30000 — 'E'; 30001–50000 — 'D'; 50001–200000 — 'C';\n",
      "    200001–1000000 — 'B'; 1000001 и выше — 'A'.\n",
      "\n"
     ]
    }
   ],
   "source": [
    "# вспомним какие есть категории\n",
    "help(total_income_category)"
   ]
  },
  {
   "cell_type": "code",
   "execution_count": 377,
   "id": "34509a2c",
   "metadata": {},
   "outputs": [
    {
     "data": {
      "text/html": [
       "<div>\n",
       "<style scoped>\n",
       "    .dataframe tbody tr th:only-of-type {\n",
       "        vertical-align: middle;\n",
       "    }\n",
       "\n",
       "    .dataframe tbody tr th {\n",
       "        vertical-align: top;\n",
       "    }\n",
       "\n",
       "    .dataframe thead th {\n",
       "        text-align: right;\n",
       "    }\n",
       "</style>\n",
       "<table border=\"1\" class=\"dataframe\">\n",
       "  <thead>\n",
       "    <tr style=\"text-align: right;\">\n",
       "      <th>total_income_category</th>\n",
       "      <th>A</th>\n",
       "      <th>B</th>\n",
       "      <th>C</th>\n",
       "      <th>D</th>\n",
       "      <th>E</th>\n",
       "      <th>All</th>\n",
       "    </tr>\n",
       "    <tr>\n",
       "      <th>debt</th>\n",
       "      <th></th>\n",
       "      <th></th>\n",
       "      <th></th>\n",
       "      <th></th>\n",
       "      <th></th>\n",
       "      <th></th>\n",
       "    </tr>\n",
       "  </thead>\n",
       "  <tbody>\n",
       "    <tr>\n",
       "      <th>0</th>\n",
       "      <td>0.92</td>\n",
       "      <td>0.929379</td>\n",
       "      <td>0.91508</td>\n",
       "      <td>0.94</td>\n",
       "      <td>0.909091</td>\n",
       "      <td>0.918846</td>\n",
       "    </tr>\n",
       "    <tr>\n",
       "      <th>1</th>\n",
       "      <td>0.08</td>\n",
       "      <td>0.070621</td>\n",
       "      <td>0.08492</td>\n",
       "      <td>0.06</td>\n",
       "      <td>0.090909</td>\n",
       "      <td>0.081154</td>\n",
       "    </tr>\n",
       "  </tbody>\n",
       "</table>\n",
       "</div>"
      ],
      "text/plain": [
       "total_income_category     A         B        C     D         E       All\n",
       "debt                                                                    \n",
       "0                      0.92  0.929379  0.91508  0.94  0.909091  0.918846\n",
       "1                      0.08  0.070621  0.08492  0.06  0.090909  0.081154"
      ]
     },
     "execution_count": 377,
     "metadata": {},
     "output_type": "execute_result"
    }
   ],
   "source": [
    "income_debt = pd.crosstab(index=data['debt'], columns=data['total_income_category'], margins=True, normalize='columns') # создадим сводную таблицу \n",
    "income_debt"
   ]
  },
  {
   "cell_type": "code",
   "execution_count": 378,
   "id": "1b9d2420",
   "metadata": {},
   "outputs": [
    {
     "data": {
      "text/plain": [
       "total_income_category\n",
       "C    16015\n",
       "B     5041\n",
       "D      350\n",
       "A       25\n",
       "E       22\n",
       "Name: count, dtype: int64"
      ]
     },
     "execution_count": 378,
     "metadata": {},
     "output_type": "execute_result"
    }
   ],
   "source": [
    "data['total_income_category'].value_counts() # узнаем количество значений по категориям для оценки значений невозврата на аномалии"
   ]
  },
  {
   "cell_type": "code",
   "execution_count": 386,
   "id": "06a8e0e3",
   "metadata": {},
   "outputs": [
    {
     "name": "stderr",
     "output_type": "stream",
     "text": [
      "C:\\Users\\user\\AppData\\Local\\Temp\\ipykernel_15120\\4149914961.py:11: UserWarning: FixedFormatter should only be used together with FixedLocator\n",
      "  ax.set_xticklabels(income_debt.columns, rotation=15)\n"
     ]
    },
    {
     "data": {
      "image/png": "[encoded data removed]",
      "text/plain": [
       "<Figure size 640x480 with 1 Axes>"
      ]
     },
     "metadata": {},
     "output_type": "display_data"
    }
   ],
   "source": [
    "# для наглядности построим график\n",
    "fig, ax = plt.subplots()\n",
    "\n",
    "ax.axhline(y=income_debt.iloc[1,5], label='среднее доля должников, по всей базе') #среднее количество должников для все базы клиентов\n",
    "ax.plot(income_debt.iloc[1,:5], 'r', label='доля должников, внутри категории') #доля должников в каждой группе клиентов\n",
    "\n",
    "plt.legend()\n",
    "plt.xlabel('Категория дохода')\n",
    "plt.ylabel('Доля должников')\n",
    "ax.set_title('Количество клиентов, имеющих задолженность в зависимости от категории дохода')\n",
    "ax.set_xticklabels(income_debt.columns, rotation=15)\n",
    "plt.show()"
   ]
  },
  {
   "attachments": {},
   "cell_type": "markdown",
   "id": "f4651b74",
   "metadata": {},
   "source": [
    "Вывод:\n",
    "\n",
    "Наибольшая доля должников наблюдается в категории людей с доходом 0-30000, в то время как наименьшая доля должников находится в группе людей с доходом 30000-50000.\n",
    "\n",
    "Зависимость между уровнем дохода и возвратом кредита в срок практически присутствует.\n"
   ]
  },
  {
   "attachments": {},
   "cell_type": "markdown",
   "id": "b67e738e",
   "metadata": {},
   "source": [
    "##### Вопрос 4: Как разные цели кредита влияют на его возврат в срок?\n"
   ]
  },
  {
   "cell_type": "code",
   "execution_count": 382,
   "id": "cabcd0f5",
   "metadata": {},
   "outputs": [
    {
     "data": {
      "text/html": [
       "<div>\n",
       "<style scoped>\n",
       "    .dataframe tbody tr th:only-of-type {\n",
       "        vertical-align: middle;\n",
       "    }\n",
       "\n",
       "    .dataframe tbody tr th {\n",
       "        vertical-align: top;\n",
       "    }\n",
       "\n",
       "    .dataframe thead th {\n",
       "        text-align: right;\n",
       "    }\n",
       "</style>\n",
       "<table border=\"1\" class=\"dataframe\">\n",
       "  <thead>\n",
       "    <tr style=\"text-align: right;\">\n",
       "      <th></th>\n",
       "      <th>purpose_category</th>\n",
       "      <th>purpose_category_id</th>\n",
       "    </tr>\n",
       "  </thead>\n",
       "  <tbody>\n",
       "    <tr>\n",
       "      <th>0</th>\n",
       "      <td>операции с недвижимостью</td>\n",
       "      <td>0</td>\n",
       "    </tr>\n",
       "    <tr>\n",
       "      <th>1</th>\n",
       "      <td>операции с автомобилем</td>\n",
       "      <td>1</td>\n",
       "    </tr>\n",
       "    <tr>\n",
       "      <th>2</th>\n",
       "      <td>получение образования</td>\n",
       "      <td>2</td>\n",
       "    </tr>\n",
       "    <tr>\n",
       "      <th>3</th>\n",
       "      <td>проведение свадьбы</td>\n",
       "      <td>3</td>\n",
       "    </tr>\n",
       "  </tbody>\n",
       "</table>\n",
       "</div>"
      ],
      "text/plain": [
       "           purpose_category  purpose_category_id\n",
       "0  операции с недвижимостью                    0\n",
       "1    операции с автомобилем                    1\n",
       "2     получение образования                    2\n",
       "3        проведение свадьбы                    3"
      ]
     },
     "execution_count": 382,
     "metadata": {},
     "output_type": "execute_result"
    }
   ],
   "source": [
    "purpose_group"
   ]
  },
  {
   "cell_type": "code",
   "execution_count": 381,
   "id": "6d5e7895",
   "metadata": {},
   "outputs": [
    {
     "data": {
      "text/html": [
       "<div>\n",
       "<style scoped>\n",
       "    .dataframe tbody tr th:only-of-type {\n",
       "        vertical-align: middle;\n",
       "    }\n",
       "\n",
       "    .dataframe tbody tr th {\n",
       "        vertical-align: top;\n",
       "    }\n",
       "\n",
       "    .dataframe thead th {\n",
       "        text-align: right;\n",
       "    }\n",
       "</style>\n",
       "<table border=\"1\" class=\"dataframe\">\n",
       "  <thead>\n",
       "    <tr style=\"text-align: right;\">\n",
       "      <th>purpose_category_id</th>\n",
       "      <th>операции с недвижимостью</th>\n",
       "      <th>операции с автомобилем</th>\n",
       "      <th>получение образования</th>\n",
       "      <th>проведение свадьбы</th>\n",
       "      <th>All</th>\n",
       "    </tr>\n",
       "    <tr>\n",
       "      <th>debt</th>\n",
       "      <th></th>\n",
       "      <th></th>\n",
       "      <th></th>\n",
       "      <th></th>\n",
       "      <th></th>\n",
       "    </tr>\n",
       "  </thead>\n",
       "  <tbody>\n",
       "    <tr>\n",
       "      <th>0</th>\n",
       "      <td>0.92766</td>\n",
       "      <td>0.90641</td>\n",
       "      <td>0.9078</td>\n",
       "      <td>0.919966</td>\n",
       "      <td>0.918846</td>\n",
       "    </tr>\n",
       "    <tr>\n",
       "      <th>1</th>\n",
       "      <td>0.07234</td>\n",
       "      <td>0.09359</td>\n",
       "      <td>0.0922</td>\n",
       "      <td>0.080034</td>\n",
       "      <td>0.081154</td>\n",
       "    </tr>\n",
       "  </tbody>\n",
       "</table>\n",
       "</div>"
      ],
      "text/plain": [
       "purpose_category_id  операции с недвижимостью  операции с автомобилем   \n",
       "debt                                                                    \n",
       "0                                     0.92766                 0.90641  \\\n",
       "1                                     0.07234                 0.09359   \n",
       "\n",
       "purpose_category_id  получение образования  проведение свадьбы       All  \n",
       "debt                                                                      \n",
       "0                                   0.9078            0.919966  0.918846  \n",
       "1                                   0.0922            0.080034  0.081154  "
      ]
     },
     "execution_count": 381,
     "metadata": {},
     "output_type": "execute_result"
    }
   ],
   "source": [
    "purpose_debt = pd.crosstab(index=data['debt'], columns=data['purpose_category_id'], normalize='columns', margins=True)\n",
    "purpose_debt = purpose_debt.rename(columns=dict(zip(purpose_debt.columns, purpose_group['purpose_category']))) \n",
    "purpose_debt"
   ]
  },
  {
   "cell_type": "code",
   "execution_count": 383,
   "id": "a54596f5",
   "metadata": {},
   "outputs": [
    {
     "data": {
      "text/plain": [
       "purpose_category_id\n",
       "0    10810\n",
       "1     4306\n",
       "2     4013\n",
       "3     2324\n",
       "Name: count, dtype: int64"
      ]
     },
     "execution_count": 383,
     "metadata": {},
     "output_type": "execute_result"
    }
   ],
   "source": [
    "data['purpose_category_id'].value_counts()"
   ]
  },
  {
   "attachments": {},
   "cell_type": "markdown",
   "id": "6a710910",
   "metadata": {},
   "source": [
    "значений в каждой категории достаточно для объективного анализа"
   ]
  },
  {
   "cell_type": "code",
   "execution_count": 385,
   "id": "b9177e0b",
   "metadata": {},
   "outputs": [
    {
     "name": "stderr",
     "output_type": "stream",
     "text": [
      "C:\\Users\\user\\AppData\\Local\\Temp\\ipykernel_15120\\3341939488.py:13: UserWarning: FixedFormatter should only be used together with FixedLocator\n",
      "  ax.set_xticklabels(purpose_debt.columns, rotation=15)\n"
     ]
    },
    {
     "data": {
      "image/png": "[encoded data removed]",
      "text/plain": [
       "<Figure size 640x480 with 1 Axes>"
      ]
     },
     "metadata": {},
     "output_type": "display_data"
    }
   ],
   "source": [
    "fig, ax = plt.subplots()\n",
    "\n",
    "ax.axhline(y=purpose_debt.iloc[1, 4], \n",
    "           label='среднее доля должников, по всей базе') #среднее количество должников для все базы клиентов\n",
    "ax.plot(purpose_debt.iloc[1, :4], 'r', \n",
    "    label='доля должников, внутри категории'); #доля должников в каждой группе клиентов\n",
    "\n",
    "plt.legend()\n",
    "plt.xlim(left=0, right=3)\n",
    "plt.xlabel('Цель займа')\n",
    "plt.ylabel('Процент должников')\n",
    "ax.set_title('Количество клиентов, имеющих задолженность в зависимости от цели кредита')\n",
    "ax.set_xticklabels(purpose_debt.columns, rotation=15)\n",
    "plt.show()"
   ]
  },
  {
   "attachments": {},
   "cell_type": "markdown",
   "id": "3f54f2f3",
   "metadata": {},
   "source": [
    "На графике наглядно видно, что наибольшая доля людей с задолженность находится в группах с операциями с автомобилями и образованием. В то же время наименьшая доля людей не вернувших долг в срок находится в группе операции с недвижимостью"
   ]
  },
  {
   "attachments": {},
   "cell_type": "markdown",
   "id": "35dc8a7a",
   "metadata": {},
   "source": [
    "Вывод:\n",
    "\n",
    "Цели кредита влияют на срок его возврата.\n",
    "При этом, наибольшая доля людей не вернувших займ в срок находится среди людей, которые брали кредит на цели покупку автомобиля и образование, а наименьшая доля - среди людей, которые брали кредит на недвижимость"
   ]
  },
  {
   "attachments": {},
   "cell_type": "markdown",
   "id": "8f07c736",
   "metadata": {},
   "source": [
    "## Общий вывод:"
   ]
  },
  {
   "attachments": {},
   "cell_type": "markdown",
   "id": "d5630d27",
   "metadata": {},
   "source": [
    "В ходы работы над предобработкой данных были проделаны следующие шаги:\n",
    "\n",
    "* Были выялвены и устранены ошибки в данных\n",
    "* Были выявленны и удалены явные и неявные дубликаты\n",
    "* Был оптимизирован объем, занимаемый датафремом, за счет оптимизации формата, в котором хранятся переменные таблицы, а также за счет вынесения одинаковых посмыслу признаков в отдельные датафреймы-словари.\n",
    "* Были заполнены пропуски в данных.\n",
    "* Была произведена категоризация признака purpose, в результате чего были выделены 4 категории цели взятия кредита, а именно: получение образования, операции с автомобилем, проведение свадьбы, операции с недвижимостью\n",
    "* Была произведена категоризация клиентов по уровню ежемесячного дохода\n",
    "\n",
    "В ходе аналитической работы, были проверены 4 гипотезы, а именно:\n",
    "\n",
    "1. Есть зависимость между наличием детей и возвратом кредита в срок\n",
    "2. Есть зависимость между семейным положением и возвратом кредита в срок\n",
    "3. Есть зависимость между уровнем дохода и возвратом кредита в срок\n",
    "4. Разные цели кредита влияют на его возврат в срок.\n",
    "\n",
    "В результате, все 4 гипотезы были подтверждены:\n",
    "\n",
    "1. Есть зависимость между наличием детей и возвратом кредита в срок. Чем больше детей, тем выше вероятность того, что клиент просрочит кредит\n",
    "2. Есть зависимость между семейным положением и возвратом кредита в срок. Человек с большей вероятностью задержит возврат кредита, если он относится к категории клиентов с семейным статусом \"гражданский брак\" и \"не женат / не замужем\". Меньшая вероятность задержки возврата кредита наблюдается у клиентов с семейным статусом \"вдовец / вдова\"\n",
    "3. Есть зависимость между уровнем дохода и возвратом кредита в срок. Наибольшая доля должников наблюдается в категории людей с доходом 0-30000, в то время как наименьшая доля должников находится в группе людей с доходом 30000-50000.\n",
    "4. Разные цели кредита влияют на его возврат в срок. Наибольшая доля клиентов, которые просрочили кредит находится среди клиентов, которые взяли кредит на \"операции с автомобилем\" и на оплату \"получение образования\", наименьшая - среди людей, которые брали кредит для проведения операций с недвижимостью"
   ]
  }
 ],
 "metadata": {
  "kernelspec": {
   "display_name": "Python 3 (ipykernel)",
   "language": "python",
   "name": "python3"
  },
  "language_info": {
   "codemirror_mode": {
    "name": "ipython",
    "version": 3
   },
   "file_extension": ".py",
   "mimetype": "text/x-python",
   "name": "python",
   "nbconvert_exporter": "python",
   "pygments_lexer": "ipython3",
   "version": "3.10.11"
  },
  "toc": {
   "base_numbering": 1,
   "nav_menu": {},
   "number_sections": true,
   "sideBar": true,
   "skip_h1_title": true,
   "title_cell": "Table of Contents",
   "title_sidebar": "Contents",
   "toc_cell": false,
   "toc_position": {},
   "toc_section_display": true,
   "toc_window_display": false
  }
 },
 "nbformat": 4,
 "nbformat_minor": 5
}
